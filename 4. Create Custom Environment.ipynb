{
 "cells": [
  {
   "cell_type": "markdown",
   "id": "9e48fd81-6afb-432a-aa80-14da35ca70ae",
   "metadata": {},
   "source": [
    "# <center> <h1>   🎮  🧑‍💻  🌎"
   ]
  },
  {
   "cell_type": "code",
   "execution_count": 47,
   "id": "1ff3e9bd-a5c5-481a-8dc6-7bb693e865a9",
   "metadata": {},
   "outputs": [],
   "source": [
    "# gym dan kerakli funksiyalarni chaqirib olamiz \n",
    "import gym\n",
    "from gym import Env # Environmet\n",
    "from gym.spaces import Discrete, Box, Dict, Tuple, MultiBinary, MultiDiscrete # Action Space lar\n",
    "\n",
    "# yordamchi kutubxonalarni chaqirib olamiz\n",
    "import numpy as np\n",
    "import random\n",
    "\n",
    "# stable baselinesdan kerakli funksiyalarni chaqirib olamiz\n",
    "from stable_baselines3 import PPO # Politikamiz\n",
    "from stable_baselines3.common.vec_env import DummyVecEnv # DummyVecEnv -  Pythonda har bir muhitni ketma-ket chaqirib, \n",
    "# bir nechta muhit uchun oddiy vektorli qobiq hosil qiladi. Bu bizga hisob kitoblarni tezroq amalga oshirish imkonini beradi.\n",
    "# Oddiyroq aytadigan bo'lsak modelni o'qitish uchun frame(kadrlarni)larni batch qilib beradi.\n",
    "\n",
    "from stable_baselines3.common.evaluation import evaluate_policy  # Politikamizni sinab ko'ramiz"
   ]
  },
  {
   "cell_type": "markdown",
   "id": "ff5cde12-672b-4e4d-9a9d-6773886bd5a3",
   "metadata": {},
   "source": [
    "# <center> Action Space - Harakatlar \n",
    "\n",
    "`Biz siz bilan turli xil modellarni o'qitishda har xil harakatlar bilan ishladik, Keling endi ularga alohida to'xtalib o'tamiz.`"
   ]
  },
  {
   "cell_type": "markdown",
   "id": "a218d458-ba35-4f30-8278-cab5d0864e53",
   "metadata": {},
   "source": [
    "# <center> Discrete\n",
    "\n",
    "`Diskret: Bu butun sonlardan tashkil topgan to'plam. Misol uchun, bu ma'lum bir muhitda agent uchun mavjud bo'lgan harakatlar to'plami bo'lishi mumkin.`"
   ]
  },
  {
   "cell_type": "code",
   "execution_count": 48,
   "id": "4ca5315c-eb96-490f-8582-d3d0698cc761",
   "metadata": {},
   "outputs": [
    {
     "data": {
      "text/plain": [
       "Discrete(3)"
      ]
     },
     "execution_count": 48,
     "metadata": {},
     "output_type": "execute_result"
    }
   ],
   "source": [
    "Discrete(3)\n",
    "# 3 ta qiymatdan iborat Discrete yaratamiz"
   ]
  },
  {
   "cell_type": "code",
   "execution_count": 49,
   "id": "288eecc8-799f-4c6c-a251-e3cfc7ae13df",
   "metadata": {},
   "outputs": [
    {
     "data": {
      "text/plain": [
       "0"
      ]
     },
     "execution_count": 49,
     "metadata": {},
     "output_type": "execute_result"
    }
   ],
   "source": [
    "Discrete(3).sample()\n",
    "# ishga tushirsak 0,1,2 chiqishi mumkin\n",
    "# Masalan biz moshinani yurishga o'rgatayotgan bo'lsak\n",
    "# 0 bu joyida turish\n",
    "# 1 bu oldinga yurish\n",
    "# 2 bu orqaga yurish bo'lishi mumkin"
   ]
  },
  {
   "cell_type": "markdown",
   "id": "555ecb1a-4079-4e08-a377-3f4492a2ebf1",
   "metadata": {},
   "source": [
    "# <center>  Box\n",
    "\n",
    "`Box: Bu float bo'lgan sonlar to'plami. Masalan, bu bir qator koordinatalar, tezliklar yoki boshqa doimiy parametrlar bo'lishi mumkin.`"
   ]
  },
  {
   "cell_type": "code",
   "execution_count": 54,
   "id": "4665a6b2-2415-4dd4-96f6-e938523b9cc4",
   "metadata": {},
   "outputs": [
    {
     "data": {
      "text/plain": [
       "Box(0.0, 1.0, (3, 3), float32)"
      ]
     },
     "execution_count": 54,
     "metadata": {},
     "output_type": "execute_result"
    }
   ],
   "source": [
    "Box(0,1, shape=(3,3))\n",
    "# Box yaratib beradi"
   ]
  },
  {
   "cell_type": "code",
   "execution_count": 55,
   "id": "5e3fc351-ddb3-4788-86a4-813e00cf3834",
   "metadata": {},
   "outputs": [
    {
     "data": {
      "text/plain": [
       "array([[19.834074, 16.883692, 12.213302],\n",
       "       [15.545046, 18.50844 , 19.857172],\n",
       "       [15.783483, 11.1096  , 18.284004]], dtype=float32)"
      ]
     },
     "execution_count": 55,
     "metadata": {},
     "output_type": "execute_result"
    }
   ],
   "source": [
    "Box(10,20, shape=(3,3)).sample()\n",
    "# 3x3 massiv yaratadi va qiymatlari 10,20 gacha bo'ladi\n",
    "# Masalan bizdagi  3x3 massiv bizda qandaydur raketadning\n",
    "# burilish burchagi, tezligi, joylashuvi kabi parametrlarining\n",
    "# boshlang'ich, o'rtacha, va oxirgi qiymatlari bo'lishi mumkin"
   ]
  },
  {
   "cell_type": "markdown",
   "id": "506f7198-a307-425e-ac22-315ac542112b",
   "metadata": {},
   "source": [
    "# <center> Tuple \n",
    "\n",
    "`Tuple: Bu bir nechta har xil to'plamarni birlashtiradi. Masalan, bu agent holati yoki harakatlarining turli tomonlarini ifodalovchi Box va Diskret to'plami bo'lishi mumkin.`"
   ]
  },
  {
   "cell_type": "code",
   "execution_count": 56,
   "id": "c8c23a0d-4838-43e1-aa6a-39739446d0f3",
   "metadata": {},
   "outputs": [
    {
     "data": {
      "text/plain": [
       "Tuple(Discrete(3), Box(10.0, 20.0, (3, 3), float32))"
      ]
     },
     "execution_count": 56,
     "metadata": {},
     "output_type": "execute_result"
    }
   ],
   "source": [
    "Tuple((Discrete(3), Box(10,20, shape=(3,3))))\n",
    "# Discrete va Box dan iborat kortej"
   ]
  },
  {
   "cell_type": "code",
   "execution_count": 57,
   "id": "73e55582-a476-429b-8343-ec5609d35a08",
   "metadata": {},
   "outputs": [
    {
     "data": {
      "text/plain": [
       "(2,\n",
       " array([[17.684246, 10.299343, 19.599497],\n",
       "        [19.226553, 19.267649, 15.671322],\n",
       "        [18.616558, 17.657515, 18.217913]], dtype=float32))"
      ]
     },
     "execution_count": 57,
     "metadata": {},
     "output_type": "execute_result"
    }
   ],
   "source": [
    "Tuple((Discrete(3), Box(10,20, shape=(3,3)))).sample()"
   ]
  },
  {
   "cell_type": "markdown",
   "id": "4c5f0580-38e2-458b-a01a-b25c2111cc97",
   "metadata": {},
   "source": [
    "# <center> Dict\n",
    "\n",
    "`Dict: Bu dictionary. Bu kalitlar yordamida holatining turli tomonlarini(o'ng, chap) yoki harakatlarini(oldinga, orqaga) ifodalash uchun ishlatilishi mumkin.'`"
   ]
  },
  {
   "cell_type": "code",
   "execution_count": 58,
   "id": "d28b037e-20bb-4f81-b865-fbaa02f44649",
   "metadata": {},
   "outputs": [
    {
     "data": {
      "text/plain": [
       "Dict('Olchami': Discrete(2), 'Tezlik': Box(10.0, 20.0, (1,), float32))"
      ]
     },
     "execution_count": 58,
     "metadata": {},
     "output_type": "execute_result"
    }
   ],
   "source": [
    "Dict({\"Olchami\":Discrete(2), \"Tezlik\":Box(10,20, shape=(1,))})\n",
    "# Dictionary yaratish"
   ]
  },
  {
   "cell_type": "code",
   "execution_count": 59,
   "id": "b25f299b-b136-455e-af38-84ca7c9b580f",
   "metadata": {},
   "outputs": [
    {
     "data": {
      "text/plain": [
       "OrderedDict([('Olchami', 1), ('Tezlik', array([19.86958], dtype=float32))])"
      ]
     },
     "execution_count": 59,
     "metadata": {},
     "output_type": "execute_result"
    }
   ],
   "source": [
    "Dict({\"Olchami\":Discrete(2), \"Tezlik\":Box(10,20, shape=(1,))}).sample()"
   ]
  },
  {
   "cell_type": "markdown",
   "id": "0ec66640-7b96-45a0-aca3-876467f6a48c",
   "metadata": {},
   "source": [
    "# <center> MultiBinary\n",
    "\n",
    "`MultiBinary: Bu ikkilik qiymatlar to'plami, har biri mustaqil o'zgaruvchi(One hot encoded binary values).`"
   ]
  },
  {
   "cell_type": "code",
   "execution_count": 61,
   "id": "60e313c8-4152-4f85-8e3d-8b811d563e0f",
   "metadata": {},
   "outputs": [
    {
     "data": {
      "text/plain": [
       "MultiBinary(4)"
      ]
     },
     "execution_count": 61,
     "metadata": {},
     "output_type": "execute_result"
    }
   ],
   "source": [
    "MultiBinary(4)\n",
    "# Binary elmentlarni yaratamiz\n",
    "# ya'ni 0 va 1 dan iboart 4 ta qiymat"
   ]
  },
  {
   "cell_type": "code",
   "execution_count": 62,
   "id": "8208850c-ac8a-465f-a6a3-27ad35d4bbfd",
   "metadata": {},
   "outputs": [
    {
     "data": {
      "text/plain": [
       "array([0, 1, 0, 0], dtype=int8)"
      ]
     },
     "execution_count": 62,
     "metadata": {},
     "output_type": "execute_result"
    }
   ],
   "source": [
    "MultiBinary(4).sample()"
   ]
  },
  {
   "cell_type": "markdown",
   "id": "5000cbcc-e9e5-4a4d-b97b-535268089ab9",
   "metadata": {},
   "source": [
    "# <center> MultiDiscrete\n",
    "\n",
    "`MultiDiscrete: Bu diskretga o'xshash to'plam, lekin bir nechta diskret o'zgaruvchilarga ega bo'lish imkonini beradi. `"
   ]
  },
  {
   "cell_type": "code",
   "execution_count": 63,
   "id": "12d1bcae-4842-4410-8700-3bfafd8e48d7",
   "metadata": {},
   "outputs": [
    {
     "data": {
      "text/plain": [
       "MultiDiscrete([5 4 6])"
      ]
     },
     "execution_count": 63,
     "metadata": {},
     "output_type": "execute_result"
    }
   ],
   "source": [
    "MultiDiscrete([5,4,6])\n",
    "# MultiDiscrete ya'ni bir nechta Discrete qiymatlarni qaytaradi\n",
    "# 5 gacha, 4 gacha, va 6 gacha bo'lgan qiymatlarni qayataradi"
   ]
  },
  {
   "cell_type": "code",
   "execution_count": 64,
   "id": "eede675d-401f-429c-a537-92ff73e5ecbc",
   "metadata": {},
   "outputs": [
    {
     "data": {
      "text/plain": [
       "array([3, 1, 1], dtype=int64)"
      ]
     },
     "execution_count": 64,
     "metadata": {},
     "output_type": "execute_result"
    }
   ],
   "source": [
    "MultiDiscrete([5,4,6]).sample()"
   ]
  },
  {
   "cell_type": "markdown",
   "id": "4d5abb34-e8e6-4cd6-bfa1-4e518e239125",
   "metadata": {},
   "source": [
    "# <center> `Environment Yaratish`"
   ]
  },
  {
   "cell_type": "markdown",
   "id": "008879c1-3be3-4846-8b55-80221899fe3e",
   "metadata": {},
   "source": [
    "`Ta'savur qiling bizda poyga o'yini bor. Poyganing qoidasi shundan iboratki, kim tezlikni 55 va 60 orasida ushlab tura olsa yutadi.\n",
    "Bu yerda bizda 3 ta harakat bo'ladi, gaz, tormoz, va haraktsizlik.\n",
    "Demak biz agentimizga tezlikni 55 va 60 oralig'ida ushlab turishni o'rgatishmiz kerak.`"
   ]
  },
  {
   "attachments": {
    "9f2d34f4-a2c7-4036-987b-d6dcfafee2a7.jpg": {
     "image/jpeg": "[encoded data removed]"
    }
   },
   "cell_type": "markdown",
   "id": "e7b635ee-ea88-4351-a8b4-4e80487bcfb3",
   "metadata": {},
   "source": [
    "<center>\n",
    "\n",
    "# ![racecar-concept-illustration_114360-7946.jpg](attachment:9f2d34f4-a2c7-4036-987b-d6dcfafee2a7.jpg)"
   ]
  },
  {
   "cell_type": "markdown",
   "id": "f1076ae9-bd00-4e55-a2be-e0fbc3fbbc04",
   "metadata": {},
   "source": [
    "# "
   ]
  },
  {
   "cell_type": "code",
   "execution_count": 17,
   "id": "ee39d32f-86e2-49c4-b882-fc5383755614",
   "metadata": {},
   "outputs": [],
   "source": [
    "# Clasimizning boshlang'ich ko'rinishi\n",
    "\n",
    "class RaceEnv(Env):\n",
    "\n",
    "    # kirish\n",
    "    def __init__(self):\n",
    "        pass\n",
    "\n",
    "    # keyingi qadamga o'tish\n",
    "    def step(self, action):\n",
    "        pass\n",
    "\n",
    "    # ko'rsatish\n",
    "    def render(self):\n",
    "        pass\n",
    "\n",
    "    # boshidan boshlash\n",
    "    def reset(self):\n",
    "        pass\n",
    "    "
   ]
  },
  {
   "cell_type": "code",
   "execution_count": 18,
   "id": "534f2ad5-05db-4cba-bea8-16af1e668e33",
   "metadata": {},
   "outputs": [],
   "source": [
    "# boshlang'ich sozlamalar\n",
    "class RaceEnv(Env):\n",
    "\n",
    "    def __init__(self):\n",
    "        self.action_space = Discrete(3)# 3 ta harakatdan iborat boladi bular, 1-gaz, 2-tormoz, 3-harakatsizlik\n",
    "        self.observation_space = Box(low=np.array([0]), high=np.array([100]))\n",
    "        self.state = 56 + random.randint(-3,3) # boshlang'ich holatimiz(qiymatimiz)\n",
    "        self.race_length = 120 # episodening davomiyligi. Oddiyroq aytadigan bo'lsak bizning poygamiz 120 sekund davom etadi 😁.\n",
    "  \n",
    "    def step(self, action):\n",
    "        pass\n",
    "            \n",
    "    def render(self):\n",
    "        pass\n",
    "\n",
    "    def reset(self):\n",
    "        pass\n",
    "        \n",
    "    \n",
    "    "
   ]
  },
  {
   "cell_type": "code",
   "execution_count": 19,
   "id": "c176e361-a1d8-408e-a30e-6de27052b4a3",
   "metadata": {},
   "outputs": [
    {
     "data": {
      "text/plain": [
       "Discrete(3)"
      ]
     },
     "execution_count": 19,
     "metadata": {},
     "output_type": "execute_result"
    }
   ],
   "source": [
    "Discrete(3)\n",
    "# 3 talik Discrete qiymatni oladi"
   ]
  },
  {
   "cell_type": "code",
   "execution_count": 20,
   "id": "ad140853-be02-47b4-b2b6-e033d7b49938",
   "metadata": {},
   "outputs": [
    {
     "data": {
      "text/plain": [
       "2"
      ]
     },
     "execution_count": 20,
     "metadata": {},
     "output_type": "execute_result"
    }
   ],
   "source": [
    "Discrete(3).sample()\n",
    "# Bular [0,1,2]"
   ]
  },
  {
   "cell_type": "code",
   "execution_count": 22,
   "id": "d57e39f1-a0e6-403a-b329-d378c70a1ddf",
   "metadata": {},
   "outputs": [
    {
     "data": {
      "text/plain": [
       "Box(0.0, 100.0, (1,), float32)"
      ]
     },
     "execution_count": 22,
     "metadata": {},
     "output_type": "execute_result"
    }
   ],
   "source": [
    "Box(low=np.array([0]), high=np.array([100]), shape=(1,))\n",
    "# boximizning eng past qiymati 0 eng baland qiymati 100 ga teng va u 1 dona son qaytaradi"
   ]
  },
  {
   "cell_type": "code",
   "execution_count": 23,
   "id": "4dc2c5e1-ed71-40d8-8c2d-b6483844ba85",
   "metadata": {},
   "outputs": [
    {
     "data": {
      "text/plain": [
       "array([64.919556], dtype=float32)"
      ]
     },
     "execution_count": 23,
     "metadata": {},
     "output_type": "execute_result"
    }
   ],
   "source": [
    "Box(low=np.array([0]), high=np.array([100]), shape=(1,)).sample()\n",
    "# 0 da 100 gacha bo'lgan random sonni qaytaradi"
   ]
  },
  {
   "cell_type": "code",
   "execution_count": 24,
   "id": "bb4b457d-c511-4878-9ffc-078a711fe91b",
   "metadata": {},
   "outputs": [
    {
     "data": {
      "text/plain": [
       "59"
      ]
     },
     "execution_count": 24,
     "metadata": {},
     "output_type": "execute_result"
    }
   ],
   "source": [
    "56 + random.randint(-3,3)# boshlangich holatimiz(qiymatimiz) \n",
    "# demak o'yinimizdagi poyga mashinamizning boshlang'ich qiymatini tanlab olamiz."
   ]
  },
  {
   "cell_type": "code",
   "execution_count": 65,
   "id": "46eb6ec1-df69-4994-9834-7e852ecc0ab4",
   "metadata": {},
   "outputs": [],
   "source": [
    "class RaceEnv(Env):\n",
    "\n",
    "    def __init__(self):\n",
    "        self.action_space = Discrete(3)# 3 ta harakatdan iborat boladi bular, 1-gaz, 2-tormoz, 3-harakatsizlik\n",
    "        self.observation_space = Box(low=np.array([0]), high=np.array([100]))\n",
    "        self.state = 56 + random.randint(-3,3) # boshlang'ich holatimiz(qiymatimiz)\n",
    "        self.race_length = 120 # episodening davomiyligi. Oddiyroq aytadigan bo'lsak bizning poygamiz 120 sekund davom etadi 😁.\n",
    "\n",
    "    def step(self, action):\n",
    "        # har qadamda biz tezlikdagi o'zgarishlarni amalga oshiramiz\n",
    "        # bizda 3 xil harakat bor Discrete(3), 0,1,2\n",
    "        # 0 tezlikni 1 marta pastga tushganini bildiradi\n",
    "        # 1 o'zgarishlar amalga oshirilamaganligini bildiradi\n",
    "        # 2 tezlikni 1 marta tepaga oshganini bildiradi\n",
    "        # pastda shuni yozganmiz\n",
    "        self.state += action-1\n",
    "\n",
    "        # poyga vaqtini har stepda kamytiramiz\n",
    "        self.race_length -= 1\n",
    "\n",
    "        # Reward hisoblash\n",
    "        if self.state >= 55 and self.state <= 60:\n",
    "            reward = 1\n",
    "        else:\n",
    "            reward = -1\n",
    "\n",
    "        # o'yinning holatini bilish uchun pastdagi kodni ishlatamiz\n",
    "        # 120 sekundan tugasa biz o'yinni tugatishimiz kerak\n",
    "        if self.race_length <= 0:\n",
    "            done = True\n",
    "        else:\n",
    "            done = False\n",
    "\n",
    "        info = {} # bu yerda biz qandaydur kerakli ma'lumotlarni kiritishimiz mumkin.\n",
    "\n",
    "        return self.state, reward, done, info\n",
    "            \n",
    "\n",
    "    def render(self):\n",
    "        # Agar biz o'yin bilan ishlaganimizda bu yerga kod yozsak bo'lar edi\n",
    "        # render asosan bizda ekraga chiqarish uchun  kerak,\n",
    "        # bizda hozir bunday hech narsa yo'q shuning uchun uni bo'sh qoldiryapmiz\n",
    "        pass\n",
    "\n",
    "    def reset(self):\n",
    "        # bu yerda hamma narsani boshlang'ich qiymatiga qaytaramiz\n",
    "        self.state = np.array([56 + random.randint(-3,3)]).astype(float)\n",
    "        self.race_length = 120\n",
    "        return self.state\n",
    "        \n",
    "    "
   ]
  },
  {
   "cell_type": "code",
   "execution_count": 67,
   "id": "b60c8056-0e49-4147-8f97-736282250592",
   "metadata": {},
   "outputs": [],
   "source": [
    "env = RaceEnv()"
   ]
  },
  {
   "cell_type": "code",
   "execution_count": 68,
   "id": "0f1db43b-24e7-4b04-8d2e-a92b6c4eb131",
   "metadata": {},
   "outputs": [
    {
     "data": {
      "text/plain": [
       "Box(0.0, 100.0, (1,), float32)"
      ]
     },
     "execution_count": 68,
     "metadata": {},
     "output_type": "execute_result"
    }
   ],
   "source": [
    "env.observation_space"
   ]
  },
  {
   "cell_type": "code",
   "execution_count": 69,
   "id": "3efede6b-118c-49af-8376-b3bf48581382",
   "metadata": {},
   "outputs": [
    {
     "data": {
      "text/plain": [
       "array([61.191566], dtype=float32)"
      ]
     },
     "execution_count": 69,
     "metadata": {},
     "output_type": "execute_result"
    }
   ],
   "source": [
    "env.observation_space.sample()"
   ]
  },
  {
   "cell_type": "code",
   "execution_count": 70,
   "id": "206dd13f-100a-44fe-baba-bf917100f59c",
   "metadata": {},
   "outputs": [
    {
     "data": {
      "text/plain": [
       "Discrete(3)"
      ]
     },
     "execution_count": 70,
     "metadata": {},
     "output_type": "execute_result"
    }
   ],
   "source": [
    "env.action_space"
   ]
  },
  {
   "cell_type": "code",
   "execution_count": 71,
   "id": "1d3e536b-8408-444a-a435-c44393d11e0b",
   "metadata": {},
   "outputs": [
    {
     "data": {
      "text/plain": [
       "0"
      ]
     },
     "execution_count": 71,
     "metadata": {},
     "output_type": "execute_result"
    }
   ],
   "source": [
    "env.action_space.sample()"
   ]
  },
  {
   "cell_type": "code",
   "execution_count": 72,
   "id": "9bb54660-31f2-40d3-bcf1-40679adf8438",
   "metadata": {},
   "outputs": [
    {
     "data": {
      "text/plain": [
       "array([54.])"
      ]
     },
     "execution_count": 72,
     "metadata": {},
     "output_type": "execute_result"
    }
   ],
   "source": [
    "env.reset()"
   ]
  },
  {
   "cell_type": "code",
   "execution_count": 76,
   "id": "c3b57e14-e098-4e52-8c5f-ba79880a54bf",
   "metadata": {},
   "outputs": [
    {
     "name": "stdout",
     "output_type": "stream",
     "text": [
      "Episodes: 1 . Score: -20\n",
      "Episodes: 2 . Score: 38\n",
      "Episodes: 3 . Score: -48\n",
      "Episodes: 4 . Score: -62\n",
      "Episodes: 5 . Score: -108\n"
     ]
    }
   ],
   "source": [
    "# Test\n",
    "# ishlatib ko'ramiz\n",
    "episodes = 5\n",
    "\n",
    "for episode in range(1, episodes+1):\n",
    "\n",
    "    obs = env.reset()\n",
    "    done = False\n",
    "    score = 0\n",
    "\n",
    "    while not done:\n",
    "        env.render() ## O'yinni ekranga chiqarish. Esingizda bo'lsa biz bu yerda hech qanday kod yozmadik demak ekranga ham hech nima chiqmaydi.\n",
    "        action = env.action_space.sample() # random harakatlarni olamiz\n",
    "        obs, reward, done, info = env.step(action) #  keyingi qadamga o'tamiz\n",
    "        score+=reward\n",
    "\n",
    "    print(\"Episodes:\",  episode, \". Score:\", score)\n",
    "env.close()\n",
    "# Pastdagi qiymatlarga qarab ko'rishingiz mumkinki \n",
    "# bizning Environment ishlayapti😎"
   ]
  },
  {
   "cell_type": "code",
   "execution_count": 77,
   "id": "d08bb0d2-577c-4507-a831-9093d979f57e",
   "metadata": {},
   "outputs": [
    {
     "data": {
      "text/plain": [
       "'Training\\\\Logs'"
      ]
     },
     "execution_count": 77,
     "metadata": {},
     "output_type": "execute_result"
    }
   ],
   "source": [
    "log_path = \"Training\\Logs\"\n",
    "log_path"
   ]
  },
  {
   "cell_type": "code",
   "execution_count": 78,
   "id": "e9322050-af10-4b4d-9ff9-5c501fc7fa45",
   "metadata": {},
   "outputs": [
    {
     "name": "stdout",
     "output_type": "stream",
     "text": [
      "Using cuda device\n",
      "Wrapping the env with a `Monitor` wrapper\n",
      "Wrapping the env in a DummyVecEnv.\n"
     ]
    }
   ],
   "source": [
    "model = PPO(\"MlpPolicy\", env, verbose=1, tensorboard_log=log_path)\n",
    "# pastga e'tibor bersaning modelni yaratish jarayoni DummyVecEnv qo'llanilgan\n",
    "# biz buni ishlatishimizdan oldin. Judaham yaxshi"
   ]
  },
  {
   "cell_type": "code",
   "execution_count": 37,
   "id": "bc6cdf6c-99dd-4cc5-b055-6d6923528668",
   "metadata": {
    "scrolled": true
   },
   "outputs": [
    {
     "name": "stdout",
     "output_type": "stream",
     "text": [
      "Logging to Training\\Logs\\PPO_14\n",
      "---------------------------------\n",
      "| rollout/           |          |\n",
      "|    ep_len_mean     | 120      |\n",
      "|    ep_rew_mean     | -25.8    |\n",
      "| time/              |          |\n",
      "|    fps             | 149      |\n",
      "|    iterations      | 1        |\n",
      "|    time_elapsed    | 13       |\n",
      "|    total_timesteps | 2048     |\n",
      "---------------------------------\n",
      "-----------------------------------------\n",
      "| rollout/                |             |\n",
      "|    ep_len_mean          | 120         |\n",
      "|    ep_rew_mean          | -32.6       |\n",
      "| time/                   |             |\n",
      "|    fps                  | 135         |\n",
      "|    iterations           | 2           |\n",
      "|    time_elapsed         | 30          |\n",
      "|    total_timesteps      | 4096        |\n",
      "| train/                  |             |\n",
      "|    approx_kl            | 0.009734598 |\n",
      "|    clip_fraction        | 0.0489      |\n",
      "|    clip_range           | 0.2         |\n",
      "|    entropy_loss         | -1.09       |\n",
      "|    explained_variance   | -0.000125   |\n",
      "|    learning_rate        | 0.0003      |\n",
      "|    loss                 | 66.2        |\n",
      "|    n_updates            | 10          |\n",
      "|    policy_gradient_loss | -0.00313    |\n",
      "|    value_loss           | 117         |\n",
      "-----------------------------------------\n",
      "-----------------------------------------\n",
      "| rollout/                |             |\n",
      "|    ep_len_mean          | 120         |\n",
      "|    ep_rew_mean          | -34.6       |\n",
      "| time/                   |             |\n",
      "|    fps                  | 166         |\n",
      "|    iterations           | 3           |\n",
      "|    time_elapsed         | 36          |\n",
      "|    total_timesteps      | 6144        |\n",
      "| train/                  |             |\n",
      "|    approx_kl            | 0.012301313 |\n",
      "|    clip_fraction        | 0.0942      |\n",
      "|    clip_range           | 0.2         |\n",
      "|    entropy_loss         | -1.1        |\n",
      "|    explained_variance   | -0.0221     |\n",
      "|    learning_rate        | 0.0003      |\n",
      "|    loss                 | 51.5        |\n",
      "|    n_updates            | 20          |\n",
      "|    policy_gradient_loss | -0.0107     |\n",
      "|    value_loss           | 95.6        |\n",
      "-----------------------------------------\n",
      "-----------------------------------------\n",
      "| rollout/                |             |\n",
      "|    ep_len_mean          | 120         |\n",
      "|    ep_rew_mean          | -31.4       |\n",
      "| time/                   |             |\n",
      "|    fps                  | 187         |\n",
      "|    iterations           | 4           |\n",
      "|    time_elapsed         | 43          |\n",
      "|    total_timesteps      | 8192        |\n",
      "| train/                  |             |\n",
      "|    approx_kl            | 0.012392423 |\n",
      "|    clip_fraction        | 0.0638      |\n",
      "|    clip_range           | 0.2         |\n",
      "|    entropy_loss         | -1.09       |\n",
      "|    explained_variance   | -0.00861    |\n",
      "|    learning_rate        | 0.0003      |\n",
      "|    loss                 | 59.7        |\n",
      "|    n_updates            | 30          |\n",
      "|    policy_gradient_loss | -0.00504    |\n",
      "|    value_loss           | 114         |\n",
      "-----------------------------------------\n",
      "----------------------------------------\n",
      "| rollout/                |            |\n",
      "|    ep_len_mean          | 120        |\n",
      "|    ep_rew_mean          | -33.6      |\n",
      "| time/                   |            |\n",
      "|    fps                  | 203        |\n",
      "|    iterations           | 5          |\n",
      "|    time_elapsed         | 50         |\n",
      "|    total_timesteps      | 10240      |\n",
      "| train/                  |            |\n",
      "|    approx_kl            | 0.01234626 |\n",
      "|    clip_fraction        | 0.0124     |\n",
      "|    clip_range           | 0.2        |\n",
      "|    entropy_loss         | -1.09      |\n",
      "|    explained_variance   | -0.000767  |\n",
      "|    learning_rate        | 0.0003     |\n",
      "|    loss                 | 43.9       |\n",
      "|    n_updates            | 40         |\n",
      "|    policy_gradient_loss | -0.0014    |\n",
      "|    value_loss           | 104        |\n",
      "----------------------------------------\n",
      "-----------------------------------------\n",
      "| rollout/                |             |\n",
      "|    ep_len_mean          | 120         |\n",
      "|    ep_rew_mean          | -36.6       |\n",
      "| time/                   |             |\n",
      "|    fps                  | 213         |\n",
      "|    iterations           | 6           |\n",
      "|    time_elapsed         | 57          |\n",
      "|    total_timesteps      | 12288       |\n",
      "| train/                  |             |\n",
      "|    approx_kl            | 0.014308464 |\n",
      "|    clip_fraction        | 0.124       |\n",
      "|    clip_range           | 0.2         |\n",
      "|    entropy_loss         | -1.09       |\n",
      "|    explained_variance   | -0.000193   |\n",
      "|    learning_rate        | 0.0003      |\n",
      "|    loss                 | 49.5        |\n",
      "|    n_updates            | 50          |\n",
      "|    policy_gradient_loss | -0.0117     |\n",
      "|    value_loss           | 95.7        |\n",
      "-----------------------------------------\n",
      "-----------------------------------------\n",
      "| rollout/                |             |\n",
      "|    ep_len_mean          | 120         |\n",
      "|    ep_rew_mean          | -37.7       |\n",
      "| time/                   |             |\n",
      "|    fps                  | 220         |\n",
      "|    iterations           | 7           |\n",
      "|    time_elapsed         | 64          |\n",
      "|    total_timesteps      | 14336       |\n",
      "| train/                  |             |\n",
      "|    approx_kl            | 0.012938121 |\n",
      "|    clip_fraction        | 0.0635      |\n",
      "|    clip_range           | 0.2         |\n",
      "|    entropy_loss         | -1.1        |\n",
      "|    explained_variance   | -4.18e-05   |\n",
      "|    learning_rate        | 0.0003      |\n",
      "|    loss                 | 57.3        |\n",
      "|    n_updates            | 60          |\n",
      "|    policy_gradient_loss | -0.00557    |\n",
      "|    value_loss           | 108         |\n",
      "-----------------------------------------\n",
      "-----------------------------------------\n",
      "| rollout/                |             |\n",
      "|    ep_len_mean          | 120         |\n",
      "|    ep_rew_mean          | -35.6       |\n",
      "| time/                   |             |\n",
      "|    fps                  | 226         |\n",
      "|    iterations           | 8           |\n",
      "|    time_elapsed         | 72          |\n",
      "|    total_timesteps      | 16384       |\n",
      "| train/                  |             |\n",
      "|    approx_kl            | 0.013214193 |\n",
      "|    clip_fraction        | 0.125       |\n",
      "|    clip_range           | 0.2         |\n",
      "|    entropy_loss         | -1.09       |\n",
      "|    explained_variance   | -3.14e-05   |\n",
      "|    learning_rate        | 0.0003      |\n",
      "|    loss                 | 68.9        |\n",
      "|    n_updates            | 70          |\n",
      "|    policy_gradient_loss | -0.0131     |\n",
      "|    value_loss           | 122         |\n",
      "-----------------------------------------\n",
      "-----------------------------------------\n",
      "| rollout/                |             |\n",
      "|    ep_len_mean          | 120         |\n",
      "|    ep_rew_mean          | -37.3       |\n",
      "| time/                   |             |\n",
      "|    fps                  | 231         |\n",
      "|    iterations           | 9           |\n",
      "|    time_elapsed         | 79          |\n",
      "|    total_timesteps      | 18432       |\n",
      "| train/                  |             |\n",
      "|    approx_kl            | 0.012057739 |\n",
      "|    clip_fraction        | 0.0398      |\n",
      "|    clip_range           | 0.2         |\n",
      "|    entropy_loss         | -1.1        |\n",
      "|    explained_variance   | -4.84e-05   |\n",
      "|    learning_rate        | 0.0003      |\n",
      "|    loss                 | 64.8        |\n",
      "|    n_updates            | 80          |\n",
      "|    policy_gradient_loss | -0.00451    |\n",
      "|    value_loss           | 136         |\n",
      "-----------------------------------------\n",
      "-----------------------------------------\n",
      "| rollout/                |             |\n",
      "|    ep_len_mean          | 120         |\n",
      "|    ep_rew_mean          | -39.4       |\n",
      "| time/                   |             |\n",
      "|    fps                  | 234         |\n",
      "|    iterations           | 10          |\n",
      "|    time_elapsed         | 87          |\n",
      "|    total_timesteps      | 20480       |\n",
      "| train/                  |             |\n",
      "|    approx_kl            | 0.008834835 |\n",
      "|    clip_fraction        | 0.0781      |\n",
      "|    clip_range           | 0.2         |\n",
      "|    entropy_loss         | -1.09       |\n",
      "|    explained_variance   | -1.11e-05   |\n",
      "|    learning_rate        | 0.0003      |\n",
      "|    loss                 | 55.8        |\n",
      "|    n_updates            | 90          |\n",
      "|    policy_gradient_loss | -0.00547    |\n",
      "|    value_loss           | 107         |\n",
      "-----------------------------------------\n",
      "-----------------------------------------\n",
      "| rollout/                |             |\n",
      "|    ep_len_mean          | 120         |\n",
      "|    ep_rew_mean          | -33.4       |\n",
      "| time/                   |             |\n",
      "|    fps                  | 238         |\n",
      "|    iterations           | 11          |\n",
      "|    time_elapsed         | 94          |\n",
      "|    total_timesteps      | 22528       |\n",
      "| train/                  |             |\n",
      "|    approx_kl            | 0.012952512 |\n",
      "|    clip_fraction        | 0.0298      |\n",
      "|    clip_range           | 0.2         |\n",
      "|    entropy_loss         | -1.07       |\n",
      "|    explained_variance   | -9.54e-07   |\n",
      "|    learning_rate        | 0.0003      |\n",
      "|    loss                 | 63.9        |\n",
      "|    n_updates            | 100         |\n",
      "|    policy_gradient_loss | -0.00314    |\n",
      "|    value_loss           | 113         |\n",
      "-----------------------------------------\n",
      "------------------------------------------\n",
      "| rollout/                |              |\n",
      "|    ep_len_mean          | 120          |\n",
      "|    ep_rew_mean          | -32.4        |\n",
      "| time/                   |              |\n",
      "|    fps                  | 241          |\n",
      "|    iterations           | 12           |\n",
      "|    time_elapsed         | 101          |\n",
      "|    total_timesteps      | 24576        |\n",
      "| train/                  |              |\n",
      "|    approx_kl            | 0.0072918655 |\n",
      "|    clip_fraction        | 0.0245       |\n",
      "|    clip_range           | 0.2          |\n",
      "|    entropy_loss         | -1.06        |\n",
      "|    explained_variance   | 5.9e-06      |\n",
      "|    learning_rate        | 0.0003       |\n",
      "|    loss                 | 38.4         |\n",
      "|    n_updates            | 110          |\n",
      "|    policy_gradient_loss | -0.00218     |\n",
      "|    value_loss           | 104          |\n",
      "------------------------------------------\n",
      "-----------------------------------------\n",
      "| rollout/                |             |\n",
      "|    ep_len_mean          | 120         |\n",
      "|    ep_rew_mean          | -31.2       |\n",
      "| time/                   |             |\n",
      "|    fps                  | 244         |\n",
      "|    iterations           | 13          |\n",
      "|    time_elapsed         | 108         |\n",
      "|    total_timesteps      | 26624       |\n",
      "| train/                  |             |\n",
      "|    approx_kl            | 0.011656479 |\n",
      "|    clip_fraction        | 0.0495      |\n",
      "|    clip_range           | 0.2         |\n",
      "|    entropy_loss         | -1.07       |\n",
      "|    explained_variance   | -0.00316    |\n",
      "|    learning_rate        | 0.0003      |\n",
      "|    loss                 | 70.8        |\n",
      "|    n_updates            | 120         |\n",
      "|    policy_gradient_loss | -0.00365    |\n",
      "|    value_loss           | 115         |\n",
      "-----------------------------------------\n",
      "-----------------------------------------\n",
      "| rollout/                |             |\n",
      "|    ep_len_mean          | 120         |\n",
      "|    ep_rew_mean          | -30.9       |\n",
      "| time/                   |             |\n",
      "|    fps                  | 246         |\n",
      "|    iterations           | 14          |\n",
      "|    time_elapsed         | 116         |\n",
      "|    total_timesteps      | 28672       |\n",
      "| train/                  |             |\n",
      "|    approx_kl            | 0.009351723 |\n",
      "|    clip_fraction        | 0.0928      |\n",
      "|    clip_range           | 0.2         |\n",
      "|    entropy_loss         | -1.08       |\n",
      "|    explained_variance   | 0.000123    |\n",
      "|    learning_rate        | 0.0003      |\n",
      "|    loss                 | 74.7        |\n",
      "|    n_updates            | 130         |\n",
      "|    policy_gradient_loss | -0.0108     |\n",
      "|    value_loss           | 136         |\n",
      "-----------------------------------------\n",
      "-----------------------------------------\n",
      "| rollout/                |             |\n",
      "|    ep_len_mean          | 120         |\n",
      "|    ep_rew_mean          | -33.1       |\n",
      "| time/                   |             |\n",
      "|    fps                  | 248         |\n",
      "|    iterations           | 15          |\n",
      "|    time_elapsed         | 123         |\n",
      "|    total_timesteps      | 30720       |\n",
      "| train/                  |             |\n",
      "|    approx_kl            | 0.010057904 |\n",
      "|    clip_fraction        | 0.12        |\n",
      "|    clip_range           | 0.2         |\n",
      "|    entropy_loss         | -1.08       |\n",
      "|    explained_variance   | -0.00839    |\n",
      "|    learning_rate        | 0.0003      |\n",
      "|    loss                 | 55.6        |\n",
      "|    n_updates            | 140         |\n",
      "|    policy_gradient_loss | -0.0107     |\n",
      "|    value_loss           | 127         |\n",
      "-----------------------------------------\n",
      "----------------------------------------\n",
      "| rollout/                |            |\n",
      "|    ep_len_mean          | 120        |\n",
      "|    ep_rew_mean          | -32.1      |\n",
      "| time/                   |            |\n",
      "|    fps                  | 250        |\n",
      "|    iterations           | 16         |\n",
      "|    time_elapsed         | 130        |\n",
      "|    total_timesteps      | 32768      |\n",
      "| train/                  |            |\n",
      "|    approx_kl            | 0.00787238 |\n",
      "|    clip_fraction        | 0.0431     |\n",
      "|    clip_range           | 0.2        |\n",
      "|    entropy_loss         | -1.08      |\n",
      "|    explained_variance   | -2.23e-05  |\n",
      "|    learning_rate        | 0.0003     |\n",
      "|    loss                 | 53         |\n",
      "|    n_updates            | 150        |\n",
      "|    policy_gradient_loss | -0.0063    |\n",
      "|    value_loss           | 123        |\n",
      "----------------------------------------\n",
      "-----------------------------------------\n",
      "| rollout/                |             |\n",
      "|    ep_len_mean          | 120         |\n",
      "|    ep_rew_mean          | -31.3       |\n",
      "| time/                   |             |\n",
      "|    fps                  | 251         |\n",
      "|    iterations           | 17          |\n",
      "|    time_elapsed         | 138         |\n",
      "|    total_timesteps      | 34816       |\n",
      "| train/                  |             |\n",
      "|    approx_kl            | 0.002240807 |\n",
      "|    clip_fraction        | 0.0261      |\n",
      "|    clip_range           | 0.2         |\n",
      "|    entropy_loss         | -1.08       |\n",
      "|    explained_variance   | -0.000232   |\n",
      "|    learning_rate        | 0.0003      |\n",
      "|    loss                 | 65.8        |\n",
      "|    n_updates            | 160         |\n",
      "|    policy_gradient_loss | -0.00254    |\n",
      "|    value_loss           | 109         |\n",
      "-----------------------------------------\n",
      "----------------------------------------\n",
      "| rollout/                |            |\n",
      "|    ep_len_mean          | 120        |\n",
      "|    ep_rew_mean          | -24.2      |\n",
      "| time/                   |            |\n",
      "|    fps                  | 253        |\n",
      "|    iterations           | 18         |\n",
      "|    time_elapsed         | 145        |\n",
      "|    total_timesteps      | 36864      |\n",
      "| train/                  |            |\n",
      "|    approx_kl            | 0.00789696 |\n",
      "|    clip_fraction        | 0.0237     |\n",
      "|    clip_range           | 0.2        |\n",
      "|    entropy_loss         | -1.09      |\n",
      "|    explained_variance   | -0.000952  |\n",
      "|    learning_rate        | 0.0003     |\n",
      "|    loss                 | 57         |\n",
      "|    n_updates            | 170        |\n",
      "|    policy_gradient_loss | -0.00179   |\n",
      "|    value_loss           | 121        |\n",
      "----------------------------------------\n",
      "------------------------------------------\n",
      "| rollout/                |              |\n",
      "|    ep_len_mean          | 120          |\n",
      "|    ep_rew_mean          | -21.7        |\n",
      "| time/                   |              |\n",
      "|    fps                  | 254          |\n",
      "|    iterations           | 19           |\n",
      "|    time_elapsed         | 153          |\n",
      "|    total_timesteps      | 38912        |\n",
      "| train/                  |              |\n",
      "|    approx_kl            | 0.0076616076 |\n",
      "|    clip_fraction        | 0.0461       |\n",
      "|    clip_range           | 0.2          |\n",
      "|    entropy_loss         | -1.09        |\n",
      "|    explained_variance   | -8.36e-05    |\n",
      "|    learning_rate        | 0.0003       |\n",
      "|    loss                 | 64.7         |\n",
      "|    n_updates            | 180          |\n",
      "|    policy_gradient_loss | -0.00271     |\n",
      "|    value_loss           | 124          |\n",
      "------------------------------------------\n",
      "------------------------------------------\n",
      "| rollout/                |              |\n",
      "|    ep_len_mean          | 120          |\n",
      "|    ep_rew_mean          | -20.7        |\n",
      "| time/                   |              |\n",
      "|    fps                  | 255          |\n",
      "|    iterations           | 20           |\n",
      "|    time_elapsed         | 160          |\n",
      "|    total_timesteps      | 40960        |\n",
      "| train/                  |              |\n",
      "|    approx_kl            | 0.0095280735 |\n",
      "|    clip_fraction        | 0.0729       |\n",
      "|    clip_range           | 0.2          |\n",
      "|    entropy_loss         | -1.08        |\n",
      "|    explained_variance   | -0.00453     |\n",
      "|    learning_rate        | 0.0003       |\n",
      "|    loss                 | 61.2         |\n",
      "|    n_updates            | 190          |\n",
      "|    policy_gradient_loss | -0.0033      |\n",
      "|    value_loss           | 121          |\n",
      "------------------------------------------\n",
      "------------------------------------------\n",
      "| rollout/                |              |\n",
      "|    ep_len_mean          | 120          |\n",
      "|    ep_rew_mean          | -16.6        |\n",
      "| time/                   |              |\n",
      "|    fps                  | 256          |\n",
      "|    iterations           | 21           |\n",
      "|    time_elapsed         | 167          |\n",
      "|    total_timesteps      | 43008        |\n",
      "| train/                  |              |\n",
      "|    approx_kl            | 0.0111613795 |\n",
      "|    clip_fraction        | 0.115        |\n",
      "|    clip_range           | 0.2          |\n",
      "|    entropy_loss         | -1.07        |\n",
      "|    explained_variance   | -0.00199     |\n",
      "|    learning_rate        | 0.0003       |\n",
      "|    loss                 | 55.7         |\n",
      "|    n_updates            | 200          |\n",
      "|    policy_gradient_loss | -0.0116      |\n",
      "|    value_loss           | 110          |\n",
      "------------------------------------------\n",
      "-----------------------------------------\n",
      "| rollout/                |             |\n",
      "|    ep_len_mean          | 120         |\n",
      "|    ep_rew_mean          | -11.9       |\n",
      "| time/                   |             |\n",
      "|    fps                  | 257         |\n",
      "|    iterations           | 22          |\n",
      "|    time_elapsed         | 174         |\n",
      "|    total_timesteps      | 45056       |\n",
      "| train/                  |             |\n",
      "|    approx_kl            | 0.011229772 |\n",
      "|    clip_fraction        | 0.0745      |\n",
      "|    clip_range           | 0.2         |\n",
      "|    entropy_loss         | -1.07       |\n",
      "|    explained_variance   | -0.0599     |\n",
      "|    learning_rate        | 0.0003      |\n",
      "|    loss                 | 48.3        |\n",
      "|    n_updates            | 210         |\n",
      "|    policy_gradient_loss | -0.0107     |\n",
      "|    value_loss           | 101         |\n",
      "-----------------------------------------\n",
      "------------------------------------------\n",
      "| rollout/                |              |\n",
      "|    ep_len_mean          | 120          |\n",
      "|    ep_rew_mean          | -10.5        |\n",
      "| time/                   |              |\n",
      "|    fps                  | 258          |\n",
      "|    iterations           | 23           |\n",
      "|    time_elapsed         | 182          |\n",
      "|    total_timesteps      | 47104        |\n",
      "| train/                  |              |\n",
      "|    approx_kl            | 0.0061313314 |\n",
      "|    clip_fraction        | 0.029        |\n",
      "|    clip_range           | 0.2          |\n",
      "|    entropy_loss         | -1.07        |\n",
      "|    explained_variance   | -0.00521     |\n",
      "|    learning_rate        | 0.0003       |\n",
      "|    loss                 | 74.2         |\n",
      "|    n_updates            | 220          |\n",
      "|    policy_gradient_loss | -0.00423     |\n",
      "|    value_loss           | 130          |\n",
      "------------------------------------------\n",
      "-----------------------------------------\n",
      "| rollout/                |             |\n",
      "|    ep_len_mean          | 120         |\n",
      "|    ep_rew_mean          | -17.9       |\n",
      "| time/                   |             |\n",
      "|    fps                  | 259         |\n",
      "|    iterations           | 24          |\n",
      "|    time_elapsed         | 189         |\n",
      "|    total_timesteps      | 49152       |\n",
      "| train/                  |             |\n",
      "|    approx_kl            | 0.010312054 |\n",
      "|    clip_fraction        | 0.0621      |\n",
      "|    clip_range           | 0.2         |\n",
      "|    entropy_loss         | -1.07       |\n",
      "|    explained_variance   | -0.00965    |\n",
      "|    learning_rate        | 0.0003      |\n",
      "|    loss                 | 60.3        |\n",
      "|    n_updates            | 230         |\n",
      "|    policy_gradient_loss | -0.00557    |\n",
      "|    value_loss           | 125         |\n",
      "-----------------------------------------\n",
      "-----------------------------------------\n",
      "| rollout/                |             |\n",
      "|    ep_len_mean          | 120         |\n",
      "|    ep_rew_mean          | -17         |\n",
      "| time/                   |             |\n",
      "|    fps                  | 259         |\n",
      "|    iterations           | 25          |\n",
      "|    time_elapsed         | 197         |\n",
      "|    total_timesteps      | 51200       |\n",
      "| train/                  |             |\n",
      "|    approx_kl            | 0.010770587 |\n",
      "|    clip_fraction        | 0.112       |\n",
      "|    clip_range           | 0.2         |\n",
      "|    entropy_loss         | -1.07       |\n",
      "|    explained_variance   | -0.000708   |\n",
      "|    learning_rate        | 0.0003      |\n",
      "|    loss                 | 46.9        |\n",
      "|    n_updates            | 240         |\n",
      "|    policy_gradient_loss | -0.0144     |\n",
      "|    value_loss           | 95.4        |\n",
      "-----------------------------------------\n",
      "------------------------------------------\n",
      "| rollout/                |              |\n",
      "|    ep_len_mean          | 120          |\n",
      "|    ep_rew_mean          | -15.2        |\n",
      "| time/                   |              |\n",
      "|    fps                  | 260          |\n",
      "|    iterations           | 26           |\n",
      "|    time_elapsed         | 204          |\n",
      "|    total_timesteps      | 53248        |\n",
      "| train/                  |              |\n",
      "|    approx_kl            | 0.0033625115 |\n",
      "|    clip_fraction        | 0.0145       |\n",
      "|    clip_range           | 0.2          |\n",
      "|    entropy_loss         | -1.07        |\n",
      "|    explained_variance   | -0.0388      |\n",
      "|    learning_rate        | 0.0003       |\n",
      "|    loss                 | 56.8         |\n",
      "|    n_updates            | 250          |\n",
      "|    policy_gradient_loss | -0.000735    |\n",
      "|    value_loss           | 114          |\n",
      "------------------------------------------\n",
      "-----------------------------------------\n",
      "| rollout/                |             |\n",
      "|    ep_len_mean          | 120         |\n",
      "|    ep_rew_mean          | -11.7       |\n",
      "| time/                   |             |\n",
      "|    fps                  | 261         |\n",
      "|    iterations           | 27          |\n",
      "|    time_elapsed         | 211         |\n",
      "|    total_timesteps      | 55296       |\n",
      "| train/                  |             |\n",
      "|    approx_kl            | 0.010503846 |\n",
      "|    clip_fraction        | 0.0717      |\n",
      "|    clip_range           | 0.2         |\n",
      "|    entropy_loss         | -1.07       |\n",
      "|    explained_variance   | -0.00062    |\n",
      "|    learning_rate        | 0.0003      |\n",
      "|    loss                 | 64.9        |\n",
      "|    n_updates            | 260         |\n",
      "|    policy_gradient_loss | -0.00538    |\n",
      "|    value_loss           | 130         |\n",
      "-----------------------------------------\n",
      "-----------------------------------------\n",
      "| rollout/                |             |\n",
      "|    ep_len_mean          | 120         |\n",
      "|    ep_rew_mean          | -14.7       |\n",
      "| time/                   |             |\n",
      "|    fps                  | 261         |\n",
      "|    iterations           | 28          |\n",
      "|    time_elapsed         | 219         |\n",
      "|    total_timesteps      | 57344       |\n",
      "| train/                  |             |\n",
      "|    approx_kl            | 0.003519699 |\n",
      "|    clip_fraction        | 0.0714      |\n",
      "|    clip_range           | 0.2         |\n",
      "|    entropy_loss         | -1.07       |\n",
      "|    explained_variance   | -0.0368     |\n",
      "|    learning_rate        | 0.0003      |\n",
      "|    loss                 | 58.4        |\n",
      "|    n_updates            | 270         |\n",
      "|    policy_gradient_loss | -0.0035     |\n",
      "|    value_loss           | 112         |\n",
      "-----------------------------------------\n",
      "----------------------------------------\n",
      "| rollout/                |            |\n",
      "|    ep_len_mean          | 120        |\n",
      "|    ep_rew_mean          | -11.9      |\n",
      "| time/                   |            |\n",
      "|    fps                  | 262        |\n",
      "|    iterations           | 29         |\n",
      "|    time_elapsed         | 226        |\n",
      "|    total_timesteps      | 59392      |\n",
      "| train/                  |            |\n",
      "|    approx_kl            | 0.00815381 |\n",
      "|    clip_fraction        | 0.108      |\n",
      "|    clip_range           | 0.2        |\n",
      "|    entropy_loss         | -1.06      |\n",
      "|    explained_variance   | 0.000414   |\n",
      "|    learning_rate        | 0.0003     |\n",
      "|    loss                 | 53.8       |\n",
      "|    n_updates            | 280        |\n",
      "|    policy_gradient_loss | -0.0129    |\n",
      "|    value_loss           | 124        |\n",
      "----------------------------------------\n",
      "------------------------------------------\n",
      "| rollout/                |              |\n",
      "|    ep_len_mean          | 120          |\n",
      "|    ep_rew_mean          | -6.98        |\n",
      "| time/                   |              |\n",
      "|    fps                  | 262          |\n",
      "|    iterations           | 30           |\n",
      "|    time_elapsed         | 234          |\n",
      "|    total_timesteps      | 61440        |\n",
      "| train/                  |              |\n",
      "|    approx_kl            | 0.0108916275 |\n",
      "|    clip_fraction        | 0.119        |\n",
      "|    clip_range           | 0.2          |\n",
      "|    entropy_loss         | -1.04        |\n",
      "|    explained_variance   | -0.075       |\n",
      "|    learning_rate        | 0.0003       |\n",
      "|    loss                 | 46.1         |\n",
      "|    n_updates            | 290          |\n",
      "|    policy_gradient_loss | -0.00304     |\n",
      "|    value_loss           | 112          |\n",
      "------------------------------------------\n",
      "------------------------------------------\n",
      "| rollout/                |              |\n",
      "|    ep_len_mean          | 120          |\n",
      "|    ep_rew_mean          | -9.92        |\n",
      "| time/                   |              |\n",
      "|    fps                  | 262          |\n",
      "|    iterations           | 31           |\n",
      "|    time_elapsed         | 242          |\n",
      "|    total_timesteps      | 63488        |\n",
      "| train/                  |              |\n",
      "|    approx_kl            | 0.0069502187 |\n",
      "|    clip_fraction        | 0.081        |\n",
      "|    clip_range           | 0.2          |\n",
      "|    entropy_loss         | -1.02        |\n",
      "|    explained_variance   | 0.00023      |\n",
      "|    learning_rate        | 0.0003       |\n",
      "|    loss                 | 56.6         |\n",
      "|    n_updates            | 300          |\n",
      "|    policy_gradient_loss | -0.00786     |\n",
      "|    value_loss           | 122          |\n",
      "------------------------------------------\n",
      "-----------------------------------------\n",
      "| rollout/                |             |\n",
      "|    ep_len_mean          | 120         |\n",
      "|    ep_rew_mean          | -10.2       |\n",
      "| time/                   |             |\n",
      "|    fps                  | 261         |\n",
      "|    iterations           | 32          |\n",
      "|    time_elapsed         | 250         |\n",
      "|    total_timesteps      | 65536       |\n",
      "| train/                  |             |\n",
      "|    approx_kl            | 0.007817124 |\n",
      "|    clip_fraction        | 0.0484      |\n",
      "|    clip_range           | 0.2         |\n",
      "|    entropy_loss         | -1.02       |\n",
      "|    explained_variance   | -0.0344     |\n",
      "|    learning_rate        | 0.0003      |\n",
      "|    loss                 | 55.6        |\n",
      "|    n_updates            | 310         |\n",
      "|    policy_gradient_loss | -0.00687    |\n",
      "|    value_loss           | 116         |\n",
      "-----------------------------------------\n",
      "------------------------------------------\n",
      "| rollout/                |              |\n",
      "|    ep_len_mean          | 120          |\n",
      "|    ep_rew_mean          | -9.26        |\n",
      "| time/                   |              |\n",
      "|    fps                  | 262          |\n",
      "|    iterations           | 33           |\n",
      "|    time_elapsed         | 257          |\n",
      "|    total_timesteps      | 67584        |\n",
      "| train/                  |              |\n",
      "|    approx_kl            | 0.0067031705 |\n",
      "|    clip_fraction        | 0.0488       |\n",
      "|    clip_range           | 0.2          |\n",
      "|    entropy_loss         | -0.976       |\n",
      "|    explained_variance   | -0.000166    |\n",
      "|    learning_rate        | 0.0003       |\n",
      "|    loss                 | 49.3         |\n",
      "|    n_updates            | 320          |\n",
      "|    policy_gradient_loss | -0.0019      |\n",
      "|    value_loss           | 115          |\n",
      "------------------------------------------\n",
      "-----------------------------------------\n",
      "| rollout/                |             |\n",
      "|    ep_len_mean          | 120         |\n",
      "|    ep_rew_mean          | -3.9        |\n",
      "| time/                   |             |\n",
      "|    fps                  | 262         |\n",
      "|    iterations           | 34          |\n",
      "|    time_elapsed         | 265         |\n",
      "|    total_timesteps      | 69632       |\n",
      "| train/                  |             |\n",
      "|    approx_kl            | 0.006030343 |\n",
      "|    clip_fraction        | 0.0304      |\n",
      "|    clip_range           | 0.2         |\n",
      "|    entropy_loss         | -0.983      |\n",
      "|    explained_variance   | -0.00781    |\n",
      "|    learning_rate        | 0.0003      |\n",
      "|    loss                 | 52.5        |\n",
      "|    n_updates            | 330         |\n",
      "|    policy_gradient_loss | -0.0029     |\n",
      "|    value_loss           | 119         |\n",
      "-----------------------------------------\n",
      "------------------------------------------\n",
      "| rollout/                |              |\n",
      "|    ep_len_mean          | 120          |\n",
      "|    ep_rew_mean          | -5.82        |\n",
      "| time/                   |              |\n",
      "|    fps                  | 261          |\n",
      "|    iterations           | 35           |\n",
      "|    time_elapsed         | 273          |\n",
      "|    total_timesteps      | 71680        |\n",
      "| train/                  |              |\n",
      "|    approx_kl            | 0.0072780713 |\n",
      "|    clip_fraction        | 0.0691       |\n",
      "|    clip_range           | 0.2          |\n",
      "|    entropy_loss         | -0.985       |\n",
      "|    explained_variance   | 0.0062       |\n",
      "|    learning_rate        | 0.0003       |\n",
      "|    loss                 | 61.8         |\n",
      "|    n_updates            | 340          |\n",
      "|    policy_gradient_loss | -0.00287     |\n",
      "|    value_loss           | 108          |\n",
      "------------------------------------------\n",
      "-----------------------------------------\n",
      "| rollout/                |             |\n",
      "|    ep_len_mean          | 120         |\n",
      "|    ep_rew_mean          | 2.46        |\n",
      "| time/                   |             |\n",
      "|    fps                  | 262         |\n",
      "|    iterations           | 36          |\n",
      "|    time_elapsed         | 280         |\n",
      "|    total_timesteps      | 73728       |\n",
      "| train/                  |             |\n",
      "|    approx_kl            | 0.009625401 |\n",
      "|    clip_fraction        | 0.182       |\n",
      "|    clip_range           | 0.2         |\n",
      "|    entropy_loss         | -0.977      |\n",
      "|    explained_variance   | -0.00221    |\n",
      "|    learning_rate        | 0.0003      |\n",
      "|    loss                 | 61          |\n",
      "|    n_updates            | 350         |\n",
      "|    policy_gradient_loss | -0.0144     |\n",
      "|    value_loss           | 128         |\n",
      "-----------------------------------------\n",
      "-----------------------------------------\n",
      "| rollout/                |             |\n",
      "|    ep_len_mean          | 120         |\n",
      "|    ep_rew_mean          | 8.14        |\n",
      "| time/                   |             |\n",
      "|    fps                  | 263         |\n",
      "|    iterations           | 37          |\n",
      "|    time_elapsed         | 287         |\n",
      "|    total_timesteps      | 75776       |\n",
      "| train/                  |             |\n",
      "|    approx_kl            | 0.003009654 |\n",
      "|    clip_fraction        | 0.0253      |\n",
      "|    clip_range           | 0.2         |\n",
      "|    entropy_loss         | -0.969      |\n",
      "|    explained_variance   | 0.000533    |\n",
      "|    learning_rate        | 0.0003      |\n",
      "|    loss                 | 62.8        |\n",
      "|    n_updates            | 360         |\n",
      "|    policy_gradient_loss | -0.000934   |\n",
      "|    value_loss           | 119         |\n",
      "-----------------------------------------\n",
      "------------------------------------------\n",
      "| rollout/                |              |\n",
      "|    ep_len_mean          | 120          |\n",
      "|    ep_rew_mean          | 15.9         |\n",
      "| time/                   |              |\n",
      "|    fps                  | 263          |\n",
      "|    iterations           | 38           |\n",
      "|    time_elapsed         | 294          |\n",
      "|    total_timesteps      | 77824        |\n",
      "| train/                  |              |\n",
      "|    approx_kl            | 0.0026325616 |\n",
      "|    clip_fraction        | 0.0151       |\n",
      "|    clip_range           | 0.2          |\n",
      "|    entropy_loss         | -0.969       |\n",
      "|    explained_variance   | 0.00055      |\n",
      "|    learning_rate        | 0.0003       |\n",
      "|    loss                 | 59           |\n",
      "|    n_updates            | 370          |\n",
      "|    policy_gradient_loss | -0.00128     |\n",
      "|    value_loss           | 105          |\n",
      "------------------------------------------\n",
      "-----------------------------------------\n",
      "| rollout/                |             |\n",
      "|    ep_len_mean          | 120         |\n",
      "|    ep_rew_mean          | 21.6        |\n",
      "| time/                   |             |\n",
      "|    fps                  | 264         |\n",
      "|    iterations           | 39          |\n",
      "|    time_elapsed         | 302         |\n",
      "|    total_timesteps      | 79872       |\n",
      "| train/                  |             |\n",
      "|    approx_kl            | 0.007427515 |\n",
      "|    clip_fraction        | 0.0471      |\n",
      "|    clip_range           | 0.2         |\n",
      "|    entropy_loss         | -0.953      |\n",
      "|    explained_variance   | 0.0123      |\n",
      "|    learning_rate        | 0.0003      |\n",
      "|    loss                 | 54.6        |\n",
      "|    n_updates            | 380         |\n",
      "|    policy_gradient_loss | -0.00427    |\n",
      "|    value_loss           | 97.6        |\n",
      "-----------------------------------------\n",
      "------------------------------------------\n",
      "| rollout/                |              |\n",
      "|    ep_len_mean          | 120          |\n",
      "|    ep_rew_mean          | 20.8         |\n",
      "| time/                   |              |\n",
      "|    fps                  | 264          |\n",
      "|    iterations           | 40           |\n",
      "|    time_elapsed         | 309          |\n",
      "|    total_timesteps      | 81920        |\n",
      "| train/                  |              |\n",
      "|    approx_kl            | 0.0047379564 |\n",
      "|    clip_fraction        | 0.0465       |\n",
      "|    clip_range           | 0.2          |\n",
      "|    entropy_loss         | -0.94        |\n",
      "|    explained_variance   | -0.0261      |\n",
      "|    learning_rate        | 0.0003       |\n",
      "|    loss                 | 68.3         |\n",
      "|    n_updates            | 390          |\n",
      "|    policy_gradient_loss | -0.00299     |\n",
      "|    value_loss           | 131          |\n",
      "------------------------------------------\n",
      "-----------------------------------------\n",
      "| rollout/                |             |\n",
      "|    ep_len_mean          | 120         |\n",
      "|    ep_rew_mean          | 22.7        |\n",
      "| time/                   |             |\n",
      "|    fps                  | 264         |\n",
      "|    iterations           | 41          |\n",
      "|    time_elapsed         | 317         |\n",
      "|    total_timesteps      | 83968       |\n",
      "| train/                  |             |\n",
      "|    approx_kl            | 0.005272195 |\n",
      "|    clip_fraction        | 0.0949      |\n",
      "|    clip_range           | 0.2         |\n",
      "|    entropy_loss         | -0.904      |\n",
      "|    explained_variance   | -0.000119   |\n",
      "|    learning_rate        | 0.0003      |\n",
      "|    loss                 | 48.1        |\n",
      "|    n_updates            | 400         |\n",
      "|    policy_gradient_loss | -0.00473    |\n",
      "|    value_loss           | 121         |\n",
      "-----------------------------------------\n",
      "-----------------------------------------\n",
      "| rollout/                |             |\n",
      "|    ep_len_mean          | 120         |\n",
      "|    ep_rew_mean          | 27.4        |\n",
      "| time/                   |             |\n",
      "|    fps                  | 264         |\n",
      "|    iterations           | 42          |\n",
      "|    time_elapsed         | 324         |\n",
      "|    total_timesteps      | 86016       |\n",
      "| train/                  |             |\n",
      "|    approx_kl            | 0.003299775 |\n",
      "|    clip_fraction        | 0.012       |\n",
      "|    clip_range           | 0.2         |\n",
      "|    entropy_loss         | -0.9        |\n",
      "|    explained_variance   | -0.0103     |\n",
      "|    learning_rate        | 0.0003      |\n",
      "|    loss                 | 50          |\n",
      "|    n_updates            | 410         |\n",
      "|    policy_gradient_loss | -0.00064    |\n",
      "|    value_loss           | 99.9        |\n",
      "-----------------------------------------\n",
      "------------------------------------------\n",
      "| rollout/                |              |\n",
      "|    ep_len_mean          | 120          |\n",
      "|    ep_rew_mean          | 29.6         |\n",
      "| time/                   |              |\n",
      "|    fps                  | 265          |\n",
      "|    iterations           | 43           |\n",
      "|    time_elapsed         | 332          |\n",
      "|    total_timesteps      | 88064        |\n",
      "| train/                  |              |\n",
      "|    approx_kl            | 0.0032534301 |\n",
      "|    clip_fraction        | 0.0594       |\n",
      "|    clip_range           | 0.2          |\n",
      "|    entropy_loss         | -0.862       |\n",
      "|    explained_variance   | -0.00123     |\n",
      "|    learning_rate        | 0.0003       |\n",
      "|    loss                 | 54.9         |\n",
      "|    n_updates            | 420          |\n",
      "|    policy_gradient_loss | -0.000601    |\n",
      "|    value_loss           | 111          |\n",
      "------------------------------------------\n",
      "-----------------------------------------\n",
      "| rollout/                |             |\n",
      "|    ep_len_mean          | 120         |\n",
      "|    ep_rew_mean          | 32.1        |\n",
      "| time/                   |             |\n",
      "|    fps                  | 265         |\n",
      "|    iterations           | 44          |\n",
      "|    time_elapsed         | 339         |\n",
      "|    total_timesteps      | 90112       |\n",
      "| train/                  |             |\n",
      "|    approx_kl            | 0.005384507 |\n",
      "|    clip_fraction        | 0.102       |\n",
      "|    clip_range           | 0.2         |\n",
      "|    entropy_loss         | -0.901      |\n",
      "|    explained_variance   | 0.000708    |\n",
      "|    learning_rate        | 0.0003      |\n",
      "|    loss                 | 72.1        |\n",
      "|    n_updates            | 430         |\n",
      "|    policy_gradient_loss | -0.0059     |\n",
      "|    value_loss           | 142         |\n",
      "-----------------------------------------\n",
      "------------------------------------------\n",
      "| rollout/                |              |\n",
      "|    ep_len_mean          | 120          |\n",
      "|    ep_rew_mean          | 36.9         |\n",
      "| time/                   |              |\n",
      "|    fps                  | 265          |\n",
      "|    iterations           | 45           |\n",
      "|    time_elapsed         | 346          |\n",
      "|    total_timesteps      | 92160        |\n",
      "| train/                  |              |\n",
      "|    approx_kl            | 0.0054022446 |\n",
      "|    clip_fraction        | 0.0671       |\n",
      "|    clip_range           | 0.2          |\n",
      "|    entropy_loss         | -0.929       |\n",
      "|    explained_variance   | 0.00653      |\n",
      "|    learning_rate        | 0.0003       |\n",
      "|    loss                 | 43.1         |\n",
      "|    n_updates            | 440          |\n",
      "|    policy_gradient_loss | -0.00122     |\n",
      "|    value_loss           | 93.8         |\n",
      "------------------------------------------\n",
      "------------------------------------------\n",
      "| rollout/                |              |\n",
      "|    ep_len_mean          | 120          |\n",
      "|    ep_rew_mean          | 42.9         |\n",
      "| time/                   |              |\n",
      "|    fps                  | 266          |\n",
      "|    iterations           | 46           |\n",
      "|    time_elapsed         | 354          |\n",
      "|    total_timesteps      | 94208        |\n",
      "| train/                  |              |\n",
      "|    approx_kl            | 0.0043012975 |\n",
      "|    clip_fraction        | 0.0937       |\n",
      "|    clip_range           | 0.2          |\n",
      "|    entropy_loss         | -0.939       |\n",
      "|    explained_variance   | -0.0142      |\n",
      "|    learning_rate        | 0.0003       |\n",
      "|    loss                 | 50.4         |\n",
      "|    n_updates            | 450          |\n",
      "|    policy_gradient_loss | -0.000252    |\n",
      "|    value_loss           | 96.1         |\n",
      "------------------------------------------\n",
      "------------------------------------------\n",
      "| rollout/                |              |\n",
      "|    ep_len_mean          | 120          |\n",
      "|    ep_rew_mean          | 55.5         |\n",
      "| time/                   |              |\n",
      "|    fps                  | 266          |\n",
      "|    iterations           | 47           |\n",
      "|    time_elapsed         | 361          |\n",
      "|    total_timesteps      | 96256        |\n",
      "| train/                  |              |\n",
      "|    approx_kl            | 0.0038810612 |\n",
      "|    clip_fraction        | 0.0864       |\n",
      "|    clip_range           | 0.2          |\n",
      "|    entropy_loss         | -0.941       |\n",
      "|    explained_variance   | 3.45e-05     |\n",
      "|    learning_rate        | 0.0003       |\n",
      "|    loss                 | 50.1         |\n",
      "|    n_updates            | 460          |\n",
      "|    policy_gradient_loss | -0.0021      |\n",
      "|    value_loss           | 88.7         |\n",
      "------------------------------------------\n",
      "-----------------------------------------\n",
      "| rollout/                |             |\n",
      "|    ep_len_mean          | 120         |\n",
      "|    ep_rew_mean          | 63.5        |\n",
      "| time/                   |             |\n",
      "|    fps                  | 266         |\n",
      "|    iterations           | 48          |\n",
      "|    time_elapsed         | 369         |\n",
      "|    total_timesteps      | 98304       |\n",
      "| train/                  |             |\n",
      "|    approx_kl            | 0.008455279 |\n",
      "|    clip_fraction        | 0.104       |\n",
      "|    clip_range           | 0.2         |\n",
      "|    entropy_loss         | -0.906      |\n",
      "|    explained_variance   | -0.000174   |\n",
      "|    learning_rate        | 0.0003      |\n",
      "|    loss                 | 40.8        |\n",
      "|    n_updates            | 470         |\n",
      "|    policy_gradient_loss | -0.00347    |\n",
      "|    value_loss           | 86.9        |\n",
      "-----------------------------------------\n",
      "------------------------------------------\n",
      "| rollout/                |              |\n",
      "|    ep_len_mean          | 120          |\n",
      "|    ep_rew_mean          | 71.1         |\n",
      "| time/                   |              |\n",
      "|    fps                  | 266          |\n",
      "|    iterations           | 49           |\n",
      "|    time_elapsed         | 376          |\n",
      "|    total_timesteps      | 100352       |\n",
      "| train/                  |              |\n",
      "|    approx_kl            | 0.0030929581 |\n",
      "|    clip_fraction        | 0.0977       |\n",
      "|    clip_range           | 0.2          |\n",
      "|    entropy_loss         | -0.882       |\n",
      "|    explained_variance   | -3.89e-05    |\n",
      "|    learning_rate        | 0.0003       |\n",
      "|    loss                 | 45.7         |\n",
      "|    n_updates            | 480          |\n",
      "|    policy_gradient_loss | -0.00222     |\n",
      "|    value_loss           | 91.4         |\n",
      "------------------------------------------\n"
     ]
    },
    {
     "data": {
      "text/plain": [
       "<stable_baselines3.ppo.ppo.PPO at 0x1d3fba87370>"
      ]
     },
     "execution_count": 37,
     "metadata": {},
     "output_type": "execute_result"
    }
   ],
   "source": [
    "model.learn(total_timesteps=100000)\n",
    "# o'qitamiz"
   ]
  },
  {
   "attachments": {
    "fa3dc94f-8816-4c73-b412-54cbe8fefc36.png": {
     "image/png": "[encoded data removed]"
    }
   },
   "cell_type": "markdown",
   "id": "bdd9b971-d100-4d18-a055-d7a09e4339dc",
   "metadata": {},
   "source": [
    "Biz log larimizni tensorboarda ko'rishimiz mumkin. Birinchi bo'lib tensorboardni ishlatib olamiz\n",
    "\n",
    "    1-bo'lib yadroni activate qilamiz\n",
    "    2-qadam. tensorboard --logdir D:\\IT\\Python\\RL\\rl\\Training\\Logs\\PPO_14 cmdga yozamiz (logdir dan keyin hamma loglarni saqlab qo'ygan papkasini ko'rsatadi)\n",
    "    3-qadam. Brauzerda http://localhost:6006/ linkni ochamiz\n",
    "\n",
    "<center>\n",
    "\n",
    "# ![Screenshot 2024-02-28 184649.png](attachment:fa3dc94f-8816-4c73-b412-54cbe8fefc36.png)"
   ]
  },
  {
   "cell_type": "markdown",
   "id": "31c1493a-cf41-48b0-ae67-54b0ee4b479c",
   "metadata": {},
   "source": [
    "# "
   ]
  },
  {
   "cell_type": "code",
   "execution_count": 38,
   "id": "6b7c40b1-429c-4db6-b8dc-081796433487",
   "metadata": {},
   "outputs": [],
   "source": [
    "shower_path = \"Training\\Saved_Models\\Shower_PPO_Model\""
   ]
  },
  {
   "cell_type": "code",
   "execution_count": 39,
   "id": "526aaeda-6681-48c7-af93-98333a11add0",
   "metadata": {},
   "outputs": [],
   "source": [
    "model.save(shower_path)\n",
    "# modelni saqlab olamiz"
   ]
  },
  {
   "cell_type": "code",
   "execution_count": 40,
   "id": "bb1f6102-0826-4ac7-bb3f-db8ebc730340",
   "metadata": {},
   "outputs": [],
   "source": [
    "del model\n",
    "# modelni o'chiramiz"
   ]
  },
  {
   "cell_type": "code",
   "execution_count": 80,
   "id": "33f7b355-0eac-4daa-85c3-16d78d157a2c",
   "metadata": {},
   "outputs": [
    {
     "name": "stdout",
     "output_type": "stream",
     "text": [
      "Wrapping the env with a `Monitor` wrapper\n",
      "Wrapping the env in a DummyVecEnv.\n"
     ]
    }
   ],
   "source": [
    "model = PPO.load(shower_path, env)\n",
    "# modelni yuklab olamiz"
   ]
  },
  {
   "cell_type": "code",
   "execution_count": 83,
   "id": "60e492e3-d719-4c29-ba3f-5b921b381d83",
   "metadata": {},
   "outputs": [
    {
     "data": {
      "text/plain": [
       "(96.0, 72.0)"
      ]
     },
     "execution_count": 83,
     "metadata": {},
     "output_type": "execute_result"
    }
   ],
   "source": [
    "evaluate_policy(model, env, n_eval_episodes=10) # Politikamiz/Strategiyamizni test qilib ko'ramiz\n",
    "# 72.0 bu 10 ta episod uchun o'rtacha rewardi(mukofot), 96.0 bo'lsa uing std si\n",
    "# Demak biz std 96.0 bo'lganda o'rtacha 72.0 reward olyapmiz\n"
   ]
  },
  {
   "cell_type": "code",
   "execution_count": 45,
   "id": "4da8b81b-4a8e-43ad-ab8c-125131af202d",
   "metadata": {},
   "outputs": [
    {
     "name": "stdout",
     "output_type": "stream",
     "text": [
      "Episode:1, Score:8\n",
      "Episode:2, Score:20\n",
      "Episode:3, Score:-42\n",
      "Episode:4, Score:-46\n",
      "Episode:5, Score:66\n",
      "Episode:6, Score:82\n",
      "Episode:7, Score:26\n",
      "Episode:8, Score:42\n",
      "Episode:9, Score:-26\n",
      "Episode:10, Score:10\n"
     ]
    }
   ],
   "source": [
    "# Demak o'qitgan modelimizni ishlatib ko'ramiz\n",
    "episodes = 10\n",
    "\n",
    "for episode in range(1, episodes+1):\n",
    "\n",
    "    obs = env.reset()\n",
    "    done = False\n",
    "\n",
    "    score = 0\n",
    "\n",
    "    while not done:\n",
    "        env.render()\n",
    "        action, _ = model.predict(obs)\n",
    "        obs, reward, done, info = env.step(action)\n",
    "        score+=reward\n",
    "\n",
    "    print(\"Episode:{}, Score:{}\".format(episode, score))\n",
    "env.close() \n",
    "# Testda ko'rishingiz mumkinki maxsimum 82 ball to'plamagnmiz bu juda yaxshi. 😁"
   ]
  },
  {
   "cell_type": "markdown",
   "id": "5bdc2442-af74-4ba3-9276-0b94c2db67b1",
   "metadata": {},
   "source": [
    "# <center> <h1>    🧑‍💻  🚀"
   ]
  }
 ],
 "metadata": {
  "kernelspec": {
   "display_name": "rl",
   "language": "python",
   "name": "rl"
  },
  "language_info": {
   "codemirror_mode": {
    "name": "ipython",
    "version": 3
   },
   "file_extension": ".py",
   "mimetype": "text/x-python",
   "name": "python",
   "nbconvert_exporter": "python",
   "pygments_lexer": "ipython3",
   "version": "3.10.0"
  }
 },
 "nbformat": 4,
 "nbformat_minor": 5
}
