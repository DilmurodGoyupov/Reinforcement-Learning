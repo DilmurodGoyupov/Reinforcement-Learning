{
 "cells": [
  {
   "cell_type": "markdown",
   "id": "908afd2b-4a6f-4adc-ac69-06a9d886043c",
   "metadata": {
    "jp-MarkdownHeadingCollapsed": true
   },
   "source": [
    "# <center> <h1>   🎮  🧑‍💻  🧱"
   ]
  },
  {
   "cell_type": "markdown",
   "id": "f52102fb-a599-4651-b643-7010e8756ee3",
   "metadata": {},
   "source": [
    "# <center> Breakout o'yinini o'ynashga o'rgatamiz"
   ]
  },
  {
   "attachments": {
    "17873b6c-bf7f-411c-bb85-cb1bbd922d63.png": {
     "image/png": "[encoded data removed]"
    }
   },
   "cell_type": "markdown",
   "id": "7f72676e-3e51-475c-9bec-16b952f9119f",
   "metadata": {},
   "source": [
    "<center>\n",
    "\n",
    "# ![Без sad.png](attachment:17873b6c-bf7f-411c-bb85-cb1bbd922d63.png)"
   ]
  },
  {
   "cell_type": "markdown",
   "id": "98a3f729-a47d-478e-888a-a207401c52c5",
   "metadata": {},
   "source": [
    "# "
   ]
  },
  {
   "cell_type": "code",
   "execution_count": 1,
   "id": "d2f073ec-21e5-49b5-9764-51728a18a037",
   "metadata": {},
   "outputs": [],
   "source": [
    "import os\n",
    "import gym\n",
    "from stable_baselines3 import A2C # Politikamiz\n",
    "from stable_baselines3.common.vec_env import VecFrameStack # VecFrameStack - Kadrlarni taxlash uchun ishlatamiz\n",
    "from stable_baselines3.common.evaluation import evaluate_policy # Politikamizni sinab ko'ramiz\n",
    "from stable_baselines3.common.env_util import make_atari_env # Atari o'yinlarini environmentini yaratish uchun kerak\n"
   ]
  },
  {
   "cell_type": "code",
   "execution_count": 2,
   "id": "f04d096a-e961-4eb3-88f8-dfb2690f2dc9",
   "metadata": {},
   "outputs": [
    {
     "name": "stderr",
     "output_type": "stream",
     "text": [
      "D:\\IT\\Python\\RL\\rl\\lib\\site-packages\\gym\\envs\\registration.py:555: UserWarning: \u001b[33mWARN: The environment Breakout-v0 is out of date. You should consider upgrading to version `v4`.\u001b[0m\n",
      "  logger.warn(\n"
     ]
    }
   ],
   "source": [
    "environment_name = \"Breakout-v0\" # o'yinimizninng nomi\n",
    "env = gym.make(environment_name, render_mode=\"human\") # environment(muhit) yaratib olamiz\n",
    "# render_mode=\"human\" bu bizga o'yinni ishga tushirganimizda o'yin bizga ekranda ko'rinishi uchun ishlatamiz\n",
    "# pastdagi link orqali Breakout o'yini haqida to'liq malumotga ega bo'lishingiz mumkin\n",
    "# https://atariage.com/manual_html_page.php?SoftwareID=889\n",
    "\n",
    "# Agar o'yinni ishga tushiradigan o'yna yopilmay qolsa havotirga o'rin yo'q\n",
    "# Davom etavering"
   ]
  },
  {
   "cell_type": "code",
   "execution_count": 3,
   "id": "4d543923-77af-4408-89a4-46c0250431aa",
   "metadata": {
    "scrolled": true
   },
   "outputs": [
    {
     "data": {
      "text/plain": [
       "(array([[[0, 0, 0],\n",
       "         [0, 0, 0],\n",
       "         [0, 0, 0],\n",
       "         ...,\n",
       "         [0, 0, 0],\n",
       "         [0, 0, 0],\n",
       "         [0, 0, 0]],\n",
       " \n",
       "        [[0, 0, 0],\n",
       "         [0, 0, 0],\n",
       "         [0, 0, 0],\n",
       "         ...,\n",
       "         [0, 0, 0],\n",
       "         [0, 0, 0],\n",
       "         [0, 0, 0]],\n",
       " \n",
       "        [[0, 0, 0],\n",
       "         [0, 0, 0],\n",
       "         [0, 0, 0],\n",
       "         ...,\n",
       "         [0, 0, 0],\n",
       "         [0, 0, 0],\n",
       "         [0, 0, 0]],\n",
       " \n",
       "        ...,\n",
       " \n",
       "        [[0, 0, 0],\n",
       "         [0, 0, 0],\n",
       "         [0, 0, 0],\n",
       "         ...,\n",
       "         [0, 0, 0],\n",
       "         [0, 0, 0],\n",
       "         [0, 0, 0]],\n",
       " \n",
       "        [[0, 0, 0],\n",
       "         [0, 0, 0],\n",
       "         [0, 0, 0],\n",
       "         ...,\n",
       "         [0, 0, 0],\n",
       "         [0, 0, 0],\n",
       "         [0, 0, 0]],\n",
       " \n",
       "        [[0, 0, 0],\n",
       "         [0, 0, 0],\n",
       "         [0, 0, 0],\n",
       "         ...,\n",
       "         [0, 0, 0],\n",
       "         [0, 0, 0],\n",
       "         [0, 0, 0]]], dtype=uint8),\n",
       " {'lives': 5, 'episode_frame_number': 0, 'frame_number': 0})"
      ]
     },
     "execution_count": 3,
     "metadata": {},
     "output_type": "execute_result"
    }
   ],
   "source": [
    "env.reset()\n",
    "# ko'rishimiz mumkinki o'yinimiz kadrlardan iborat"
   ]
  },
  {
   "cell_type": "code",
   "execution_count": 4,
   "id": "16740db8-934a-41bf-9b98-41e675316b59",
   "metadata": {},
   "outputs": [
    {
     "data": {
      "text/plain": [
       "Box(0, 255, (210, 160, 3), uint8)"
      ]
     },
     "execution_count": 4,
     "metadata": {},
     "output_type": "execute_result"
    }
   ],
   "source": [
    "env.observation_space\n",
    "# 0 state(observation)ning past darajasi(ya'ni pixelimizning eng past qiymati), 255 kuzatishning yuqori darajasi(ya'ni pixelimizning eng baland qiymati)\n",
    "# (210, 160, 3), 210x160x3 o'lchovli rasmimiz\n"
   ]
  },
  {
   "cell_type": "code",
   "execution_count": 5,
   "id": "cdba0a14-fa02-4308-b5b7-ea231fd76004",
   "metadata": {},
   "outputs": [
    {
     "data": {
      "text/plain": [
       "Discrete(4)"
      ]
     },
     "execution_count": 5,
     "metadata": {},
     "output_type": "execute_result"
    }
   ],
   "source": [
    "env.action_space\n",
    "# 4 xil harakatimiz bor ekan\n",
    "# 0 - Harakatsizlik\n",
    "# 1 - Otish\n",
    "# 2 - O'ngga\n",
    "# 3 - Chapga"
   ]
  },
  {
   "cell_type": "markdown",
   "id": "4e5b35ea-ab8b-4b0b-8124-37fe86e4a3c1",
   "metadata": {},
   "source": [
    "    | Num | Action |\n",
    "    |-----|--------|\n",
    "    | 0   | NOOP   |\n",
    "    | 1   | FIRE   |\n",
    "    | 2   | RIGHT  |\n",
    "    | 3   | LEFT   |"
   ]
  },
  {
   "cell_type": "code",
   "execution_count": 6,
   "id": "bca394b1-71c0-4215-885a-e76072877be9",
   "metadata": {},
   "outputs": [],
   "source": [
    "env.close()"
   ]
  },
  {
   "cell_type": "code",
   "execution_count": 7,
   "id": "d5190619-d2c7-47df-8ad7-d6eada82b394",
   "metadata": {},
   "outputs": [
    {
     "name": "stderr",
     "output_type": "stream",
     "text": [
      "D:\\IT\\Python\\RL\\rl\\lib\\site-packages\\gym\\utils\\passive_env_checker.py:289: UserWarning: \u001b[33mWARN: No render fps was declared in the environment (env.metadata['render_fps'] is None or not defined), rendering may occur at inconsistent fps.\u001b[0m\n",
      "  logger.warn(\n",
      "D:\\IT\\Python\\RL\\rl\\lib\\site-packages\\gym\\utils\\passive_env_checker.py:233: DeprecationWarning: `np.bool8` is a deprecated alias for `np.bool_`.  (Deprecated NumPy 1.24)\n",
      "  if not isinstance(terminated, (bool, np.bool8)):\n"
     ]
    },
    {
     "name": "stdout",
     "output_type": "stream",
     "text": [
      "Episodes: 1 . Score: 3.0\n",
      "Episodes: 2 . Score: 5.0\n",
      "Episodes: 3 . Score: 2.0\n",
      "Episodes: 4 . Score: 1.0\n",
      "Episodes: 5 . Score: 0.0\n"
     ]
    }
   ],
   "source": [
    "episodes = 5\n",
    "\n",
    "for episode in range(1, episodes+1):\n",
    "\n",
    "    obs = env.reset()\n",
    "    done = False\n",
    "    score = 0\n",
    "\n",
    "    while not done:\n",
    "        env.render() ## O'yinni ekranga chiqarish\n",
    "        action = env.action_space.sample() # random harakatlarni olamiz\n",
    "        obs, reward, done, truncated, info = env.step(action) #  keyingi qadamga o'tamiz\n",
    "        score+=reward\n",
    "\n",
    "    print(\"Episodes:\",  episode, \". Score:\", score)\n",
    "env.close()\n",
    "# pastda qaysi rangli blokni yo'q qilsak qancha ochko olishimiz ko'rsatilgan\n",
    "# Red - 7 points         Orange - 7 points        Yellow - 4 points\n",
    "# Green - 4 points       Aqua - 1 point           Blue - 1 point"
   ]
  },
  {
   "cell_type": "code",
   "execution_count": 8,
   "id": "09f11364-23c3-453b-a84a-cd095d7730eb",
   "metadata": {},
   "outputs": [],
   "source": [
    "env.close()"
   ]
  },
  {
   "cell_type": "code",
   "execution_count": null,
   "id": "479c6849-ff89-4ff3-b8fe-97a40b93edc5",
   "metadata": {},
   "outputs": [],
   "source": []
  },
  {
   "cell_type": "code",
   "execution_count": 9,
   "id": "0229c0d8-2367-4db7-ad12-afddc6d6da55",
   "metadata": {},
   "outputs": [
    {
     "name": "stderr",
     "output_type": "stream",
     "text": [
      "D:\\IT\\Python\\RL\\rl\\lib\\site-packages\\gymnasium\\envs\\registration.py:513: DeprecationWarning: \u001b[33mWARN: The environment Breakout-v0 is out of date. You should consider upgrading to version `v4`.\u001b[0m\n",
      "  logger.deprecation(\n"
     ]
    }
   ],
   "source": [
    "env = make_atari_env(\"Breakout-v0\", n_envs=4, seed=0)\n",
    "# n_envs=4 = orqali biz birdaniga 4 ta environment yaratamiz va ular bilan paralel tarzda ishlaymiz"
   ]
  },
  {
   "cell_type": "code",
   "execution_count": 10,
   "id": "069fe2af-22b3-4edd-8e08-eb391f03607e",
   "metadata": {},
   "outputs": [],
   "source": [
    "obs = env.reset()"
   ]
  },
  {
   "cell_type": "code",
   "execution_count": 11,
   "id": "92617e92-663c-4c0c-99c1-2ab19d1ff5a6",
   "metadata": {
    "scrolled": true
   },
   "outputs": [
    {
     "data": {
      "text/plain": [
       "array([[[[0],\n",
       "         [0],\n",
       "         [0],\n",
       "         ...,\n",
       "         [0],\n",
       "         [0],\n",
       "         [0]],\n",
       "\n",
       "        [[0],\n",
       "         [0],\n",
       "         [0],\n",
       "         ...,\n",
       "         [0],\n",
       "         [0],\n",
       "         [0]],\n",
       "\n",
       "        [[0],\n",
       "         [0],\n",
       "         [0],\n",
       "         ...,\n",
       "         [0],\n",
       "         [0],\n",
       "         [0]],\n",
       "\n",
       "        ...,\n",
       "\n",
       "        [[0],\n",
       "         [0],\n",
       "         [0],\n",
       "         ...,\n",
       "         [0],\n",
       "         [0],\n",
       "         [0]],\n",
       "\n",
       "        [[0],\n",
       "         [0],\n",
       "         [0],\n",
       "         ...,\n",
       "         [0],\n",
       "         [0],\n",
       "         [0]],\n",
       "\n",
       "        [[0],\n",
       "         [0],\n",
       "         [0],\n",
       "         ...,\n",
       "         [0],\n",
       "         [0],\n",
       "         [0]]],\n",
       "\n",
       "\n",
       "       [[[0],\n",
       "         [0],\n",
       "         [0],\n",
       "         ...,\n",
       "         [0],\n",
       "         [0],\n",
       "         [0]],\n",
       "\n",
       "        [[0],\n",
       "         [0],\n",
       "         [0],\n",
       "         ...,\n",
       "         [0],\n",
       "         [0],\n",
       "         [0]],\n",
       "\n",
       "        [[0],\n",
       "         [0],\n",
       "         [0],\n",
       "         ...,\n",
       "         [0],\n",
       "         [0],\n",
       "         [0]],\n",
       "\n",
       "        ...,\n",
       "\n",
       "        [[0],\n",
       "         [0],\n",
       "         [0],\n",
       "         ...,\n",
       "         [0],\n",
       "         [0],\n",
       "         [0]],\n",
       "\n",
       "        [[0],\n",
       "         [0],\n",
       "         [0],\n",
       "         ...,\n",
       "         [0],\n",
       "         [0],\n",
       "         [0]],\n",
       "\n",
       "        [[0],\n",
       "         [0],\n",
       "         [0],\n",
       "         ...,\n",
       "         [0],\n",
       "         [0],\n",
       "         [0]]],\n",
       "\n",
       "\n",
       "       [[[0],\n",
       "         [0],\n",
       "         [0],\n",
       "         ...,\n",
       "         [0],\n",
       "         [0],\n",
       "         [0]],\n",
       "\n",
       "        [[0],\n",
       "         [0],\n",
       "         [0],\n",
       "         ...,\n",
       "         [0],\n",
       "         [0],\n",
       "         [0]],\n",
       "\n",
       "        [[0],\n",
       "         [0],\n",
       "         [0],\n",
       "         ...,\n",
       "         [0],\n",
       "         [0],\n",
       "         [0]],\n",
       "\n",
       "        ...,\n",
       "\n",
       "        [[0],\n",
       "         [0],\n",
       "         [0],\n",
       "         ...,\n",
       "         [0],\n",
       "         [0],\n",
       "         [0]],\n",
       "\n",
       "        [[0],\n",
       "         [0],\n",
       "         [0],\n",
       "         ...,\n",
       "         [0],\n",
       "         [0],\n",
       "         [0]],\n",
       "\n",
       "        [[0],\n",
       "         [0],\n",
       "         [0],\n",
       "         ...,\n",
       "         [0],\n",
       "         [0],\n",
       "         [0]]],\n",
       "\n",
       "\n",
       "       [[[0],\n",
       "         [0],\n",
       "         [0],\n",
       "         ...,\n",
       "         [0],\n",
       "         [0],\n",
       "         [0]],\n",
       "\n",
       "        [[0],\n",
       "         [0],\n",
       "         [0],\n",
       "         ...,\n",
       "         [0],\n",
       "         [0],\n",
       "         [0]],\n",
       "\n",
       "        [[0],\n",
       "         [0],\n",
       "         [0],\n",
       "         ...,\n",
       "         [0],\n",
       "         [0],\n",
       "         [0]],\n",
       "\n",
       "        ...,\n",
       "\n",
       "        [[0],\n",
       "         [0],\n",
       "         [0],\n",
       "         ...,\n",
       "         [0],\n",
       "         [0],\n",
       "         [0]],\n",
       "\n",
       "        [[0],\n",
       "         [0],\n",
       "         [0],\n",
       "         ...,\n",
       "         [0],\n",
       "         [0],\n",
       "         [0]],\n",
       "\n",
       "        [[0],\n",
       "         [0],\n",
       "         [0],\n",
       "         ...,\n",
       "         [0],\n",
       "         [0],\n",
       "         [0]]]], dtype=uint8)"
      ]
     },
     "execution_count": 11,
     "metadata": {},
     "output_type": "execute_result"
    }
   ],
   "source": [
    "obs"
   ]
  },
  {
   "cell_type": "code",
   "execution_count": 12,
   "id": "6a8bb57a-7f03-4765-893b-49488bd51256",
   "metadata": {},
   "outputs": [
    {
     "data": {
      "text/plain": [
       "(4, 84, 84, 1)"
      ]
     },
     "execution_count": 12,
     "metadata": {},
     "output_type": "execute_result"
    }
   ],
   "source": [
    "obs.shape\n",
    "# (4, 84, 84, 1)\n",
    "# demak bizda 4 ta 84x84 o'lchamdagi 1 tadan rasmlar bor"
   ]
  },
  {
   "cell_type": "code",
   "execution_count": 13,
   "id": "498694f6-def1-4ba9-a7a4-7dcf74ca5543",
   "metadata": {},
   "outputs": [
    {
     "name": "stderr",
     "output_type": "stream",
     "text": [
      "D:\\IT\\Python\\RL\\rl\\lib\\site-packages\\gymnasium\\utils\\passive_env_checker.py:335: UserWarning: \u001b[33mWARN: No render fps was declared in the environment (env.metadata['render_fps'] is None or not defined), rendering may occur at inconsistent fps.\u001b[0m\n",
      "  logger.warn(\n"
     ]
    }
   ],
   "source": [
    "env.render(mode=\"human\")\n",
    "# pasdagi rasmnini ko'rishingiz mumkin"
   ]
  },
  {
   "attachments": {
    "4217bf8d-add4-4991-912d-53c9d1c5a0dc.png": {
     "image/png": "[encoded data removed]"
    }
   },
   "cell_type": "markdown",
   "id": "f4a60990-f367-4612-bb0a-b1e4a809894f",
   "metadata": {},
   "source": [
    "<center>\n",
    "\n",
    "#  ![Screenshot 2024-02-25 113924.png](attachment:4217bf8d-add4-4991-912d-53c9d1c5a0dc.png)"
   ]
  },
  {
   "cell_type": "markdown",
   "id": "19bf014b-ac80-4b46-a46f-af194b23cc84",
   "metadata": {},
   "source": [
    "# "
   ]
  },
  {
   "cell_type": "code",
   "execution_count": 14,
   "id": "1c2b44b6-4add-4710-9f83-8f93d0852fd6",
   "metadata": {},
   "outputs": [],
   "source": [
    "env = make_atari_env(\"Breakout-v0\", n_envs=4, seed=0) # n_env=4, 4 ta paralel environment yaratadi\n",
    "env = VecFrameStack(env, n_stack=4) # n_stack=4 ta \n",
    "# VecFrameStack orqali biz rasmlarni taxlab olamiz\n",
    "# bir nechta kadrlarni qo'shamiz, masalan biz 4 ta kadrni qo'shyapmiz."
   ]
  },
  {
   "cell_type": "code",
   "execution_count": 15,
   "id": "44a9b9ae-0cb8-4d10-ad32-723b007c7079",
   "metadata": {},
   "outputs": [],
   "source": [
    "obs = env.reset()"
   ]
  },
  {
   "cell_type": "code",
   "execution_count": 16,
   "id": "6a752456-3ce1-48cb-b427-e84662227e07",
   "metadata": {},
   "outputs": [
    {
     "data": {
      "text/plain": [
       "(4, 84, 84, 4)"
      ]
     },
     "execution_count": 16,
     "metadata": {},
     "output_type": "execute_result"
    }
   ],
   "source": [
    "obs.shape\n",
    "# Demak bizda 4 ta paralel environment bor \n",
    "# har bir environment da o'lchami 84x84 kadrlar bor\n",
    "# kadrlar soni esa 4 tadan\n",
    "# bu bizga o'qitishni tezlashtirish imkonini beradi\n",
    "# birdanigi 4 ta rasmni berish bizga nimani beradi ?\n",
    "# biz shu orqali o'yinimizda harakat bor yo'qligini tekshirishimz mumkin\n",
    "# chunki o'yin davom etayotgan bo'lsa biz berayotgan birinchi va to'rtinchi kadr orasida farq bo'ladi"
   ]
  },
  {
   "cell_type": "code",
   "execution_count": 17,
   "id": "0ec5e611-f2ef-47d7-b757-afef2953f734",
   "metadata": {
    "scrolled": true
   },
   "outputs": [],
   "source": [
    "env.render(mode=\"human\")\n",
    "# sizda pastdagi rasmdagi kabi bo'ladi\n",
    "# demak bizda 4 ta 84x84 o'lchamdagi 4 tadan rasmlar bor"
   ]
  },
  {
   "attachments": {
    "c6939aae-00c1-4662-8d7d-7694a4533d31.png": {
     "image/png": "[encoded data removed]"
    }
   },
   "cell_type": "markdown",
   "id": "d5b31f2c-1fcb-4c12-8582-d7fa61027de6",
   "metadata": {},
   "source": [
    "<center>\n",
    "\n",
    "# ![Screenshot 2024-02-25 112329.png](attachment:c6939aae-00c1-4662-8d7d-7694a4533d31.png)"
   ]
  },
  {
   "cell_type": "markdown",
   "id": "8e76b1eb-e454-472b-8a99-4c5115f37858",
   "metadata": {},
   "source": [
    "# "
   ]
  },
  {
   "cell_type": "code",
   "execution_count": 18,
   "id": "acfb8268-99be-4adf-aab3-5aff30c575a7",
   "metadata": {},
   "outputs": [
    {
     "data": {
      "text/plain": [
       "'Training\\\\Logs'"
      ]
     },
     "execution_count": 18,
     "metadata": {},
     "output_type": "execute_result"
    }
   ],
   "source": [
    "# Logalrni saqlash papkasi\n",
    "log_path = \"Training\\Logs\"\n",
    "log_path"
   ]
  },
  {
   "cell_type": "code",
   "execution_count": 19,
   "id": "da9133f8-846a-437f-9026-2246c93c7aae",
   "metadata": {},
   "outputs": [
    {
     "name": "stdout",
     "output_type": "stream",
     "text": [
      "Using cuda device\n",
      "Wrapping the env in a VecTransposeImage.\n"
     ]
    }
   ],
   "source": [
    "model = A2C(\"CnnPolicy\", env, verbose=1, tensorboard_log=log_path)\n",
    "# CnnPolicy - Politikani turi. Cnn qanday ishlashini tushunadi. Bu agentning hatti-harakatlari strateiyasini ehitmollilari bilan ishlash uchun kerak.\n",
    "# Oddiyroq aytadigan bo'lsak CnnPolicy bizga rasmlar bilan ishlash uchun kerak boladi.\n",
    "# Bizda ham o'yinizmiz rasmlardan iborat.\n",
    "# CnnPolicy dan boshqa MlpPlociy(bu ko'p darajali perseptron degani) ham bor u bizga  jadvallar bilan ishlayotgan bo'lsak kerak bo'ladi\n",
    "#  To'liq ma'lumotni https://stable-baselines3.readthedocs.io/en/master/modules/ppo.html#ppo-policies  olishingiz mumkin 🙂\n",
    "\n",
    "\n",
    "# verbose bu Tafsilotlar darajasi(Уровень детализации).  verbose=1 bu ishlatilayotgan muhit(environment) qurilmalar va boshqa kerak bo'lishi \n",
    "# mumkin bo'lgan ma'lumotni bizga beradi.\n",
    "# Agar verbose = 0 bo'lsa hech qanday ma'lumot berilmaydi"
   ]
  },
  {
   "cell_type": "markdown",
   "id": "af34e5fd-6963-4ba3-9216-ea4ae4c15331",
   "metadata": {},
   "source": [
    "## A2C (Advantage Actor-Critic) - bu Mustahkamlab o'rgatish muammolarini hal qilish uchun ishlatiladigan mashinali o'rgatish algoritmi. U ikkita asosiy komponentni birlashtiradi:\n",
    "\n",
    "* Aktyor: Bu algoritmning muayyan vaziyatda qanday harakat qilish kerakligi haqida qaror qabul qiladigan qismi. Misol uchun, agar biz o'yin haqida gapiradigan bo'lsak, aktyor o'yinda qayerga borishni hal qilishi mumkin(Hozirgi Breakout o'yinimizda esa koptokni qaytaradigan taxtamizni qayerga borishini hal qilishi kerak).\n",
    "\n",
    "* Tanqidchi(Critic): Bu qaror aktyor tomonidan qaror qanchalik to'g'ri qabul qilinganligini baholaydigan qism. U aktyorga fikr-mulohazalarini bildiradi va kelajakda uning qarorlarini yaxshilashga yordam beradi.\n",
    "\n",
    "A2C algoritmi ikkala komponentni bir vaqtning o'zida o'rgatish orqali ishlaydi. U aktyorning strategiyasini takomillashtirish uchun qabul qilingan qarorlarni baholashdagi xatolar haqidagi ma'lumotlardan foydalanadi. Bu unga samarali o'rganish va turli vaziyatlarga moslashish imkonini beradi."
   ]
  },
  {
   "cell_type": "markdown",
   "id": "93a6f6e8-e185-432d-9495-d1a2043ef7c7",
   "metadata": {},
   "source": [
    "# "
   ]
  },
  {
   "cell_type": "code",
   "execution_count": 1,
   "id": "8b5c9430-a0a5-427b-8d82-bad72cf8cea2",
   "metadata": {
    "scrolled": true
   },
   "outputs": [],
   "source": [
    "# bu yecheykani markdown qiib qo'ydim chunki train jarayonida juda ko'p malumot chiqadi va uni github, kaggle va boshqa saytlarga \n",
    "# qo'yganda juda noqulay bo'ladi.\n",
    "# model.learn(total_timesteps=1000000)\n",
    "# demak 1000000 qadam uchun o'rtacha reward \n",
    "# ep_rew_mean        | 14.2  ekan\n",
    "# episozdlarimizning davomiyligi o'rtacha\n",
    "# ep_len_mean        | 820 ekan"
   ]
  },
  {
   "attachments": {
    "2e0c4a7d-2ec3-49af-b9ac-101e058afb5c.png": {
     "image/png": "[encoded data removed]"
    }
   },
   "cell_type": "markdown",
   "id": "0e63dff3-34b6-44b7-a356-beb8f7ef53e3",
   "metadata": {},
   "source": [
    "Biz log larimizni tensorboarda ko'rishimiz mumkin. Birinchi bo'lib tensorboardni ishlatib olamiz\n",
    "\n",
    "    1-bo'lib yadroni activate qilamiz\n",
    "    2-qadam. tensorboard --logdir D:\\IT\\Python\\RL\\rl\\Training\\Logs\\A2C_2 cmdga yozamiz (logdir dan keyin hamma loglarni saqlab qo'ygan papkasini ko'rsatadi)\n",
    "    3-qadam. Brauzerda http://localhost:6006/ linkni ochamiz\n",
    "\n",
    "<center>\n",
    "    \n",
    "# ![Screenshot 2024-02-25 202256.png](attachment:2e0c4a7d-2ec3-49af-b9ac-101e058afb5c.png)"
   ]
  },
  {
   "attachments": {
    "06cf118c-86bb-4c34-9a9b-fc7ff49f8abf.png": {
     "image/png": "[encoded data removed]"
    }
   },
   "cell_type": "markdown",
   "id": "c10802e9-1702-4ac1-8eb6-dd7e507f4ecb",
   "metadata": {},
   "source": [
    "<center>\n",
    "\n",
    "# ![Screenshot 2024-02-25 202409.png](attachment:06cf118c-86bb-4c34-9a9b-fc7ff49f8abf.png)"
   ]
  },
  {
   "cell_type": "markdown",
   "id": "49da293d-e2d6-45c3-92d4-f1e69e1f3410",
   "metadata": {},
   "source": [
    "# "
   ]
  },
  {
   "cell_type": "code",
   "execution_count": 21,
   "id": "5c25a812-6244-4f0e-aabb-6f59480a1e84",
   "metadata": {},
   "outputs": [],
   "source": [
    "model.save(\"Training\\Saved_Models\\A2C_Breakout_Model\")\n",
    "# modelni saqlab qo'yamiz"
   ]
  },
  {
   "cell_type": "code",
   "execution_count": 22,
   "id": "a16852ca-39b8-4b3b-b1a0-d259822e27fb",
   "metadata": {},
   "outputs": [],
   "source": [
    "del model\n",
    "# modelni o'chiramiz"
   ]
  },
  {
   "cell_type": "code",
   "execution_count": 23,
   "id": "6df96d2d-cb51-4089-8327-f0b98ab2f03e",
   "metadata": {},
   "outputs": [
    {
     "name": "stderr",
     "output_type": "stream",
     "text": [
      "D:\\IT\\Python\\RL\\rl\\lib\\site-packages\\gymnasium\\envs\\registration.py:513: DeprecationWarning: \u001b[33mWARN: The environment Breakout-v0 is out of date. You should consider upgrading to version `v4`.\u001b[0m\n",
      "  logger.deprecation(\n"
     ]
    }
   ],
   "source": [
    "env = make_atari_env(\"Breakout-v0\", n_envs=1, seed=0) \n",
    "env = VecFrameStack(env, n_stack=4) \n",
    "# n_env=1, biz nimaga n_env=1 qildik ? axir o'qitish jarayonida 4 ediku ?\n",
    "# javob oddiy biz test vaqtida faqat 1 ta environmentni ishlata olamiz 😁"
   ]
  },
  {
   "cell_type": "code",
   "execution_count": 24,
   "id": "3bd5e944-859e-410b-82c2-42e1d5f777a3",
   "metadata": {},
   "outputs": [
    {
     "name": "stdout",
     "output_type": "stream",
     "text": [
      "Wrapping the env in a VecTransposeImage.\n"
     ]
    }
   ],
   "source": [
    "model = A2C.load(\"Training\\Saved_Models\\A2C_Breakout_Model\", env)\n",
    "# modelni yuklab olamiz"
   ]
  },
  {
   "cell_type": "code",
   "execution_count": 25,
   "id": "08fe2db6-d2ed-4b82-9853-edd09c298679",
   "metadata": {},
   "outputs": [
    {
     "name": "stderr",
     "output_type": "stream",
     "text": [
      "D:\\IT\\Python\\RL\\rl\\lib\\site-packages\\gymnasium\\utils\\passive_env_checker.py:335: UserWarning: \u001b[33mWARN: No render fps was declared in the environment (env.metadata['render_fps'] is None or not defined), rendering may occur at inconsistent fps.\u001b[0m\n",
      "  logger.warn(\n"
     ]
    },
    {
     "data": {
      "text/plain": [
       "(12.8, 5.89576118919347)"
      ]
     },
     "execution_count": 25,
     "metadata": {},
     "output_type": "execute_result"
    }
   ],
   "source": [
    "evaluate_policy(model, env, n_eval_episodes=10, render=True) # Politikamiz/Strategiyamizni test qilib ko'ramiz\n",
    "# 12.8 bu 10 ta episod uchun o'rtacha rewardi(mukofot), 5.8 bo'lsa uning std si\n",
    "# Demak biz std 5.8 bo'lganda o'rtacha 12.8 reward olyapmiz"
   ]
  },
  {
   "cell_type": "code",
   "execution_count": 26,
   "id": "59b6351e-0344-4195-b974-27774e4a1d95",
   "metadata": {
    "scrolled": true
   },
   "outputs": [
    {
     "name": "stdout",
     "output_type": "stream",
     "text": [
      "Episode:1, Score:[0.]\n",
      "Episode:2, Score:[0.]\n",
      "Episode:3, Score:[0.]\n",
      "Episode:4, Score:[0.]\n",
      "Episode:5, Score:[2.]\n",
      "Episode:6, Score:[0.]\n",
      "Episode:7, Score:[0.]\n",
      "Episode:8, Score:[1.]\n",
      "Episode:9, Score:[0.]\n",
      "Episode:10, Score:[0.]\n",
      "Episode:11, Score:[0.]\n",
      "Episode:12, Score:[0.]\n",
      "Episode:13, Score:[3.]\n",
      "Episode:14, Score:[0.]\n",
      "Episode:15, Score:[1.]\n",
      "Episode:16, Score:[7.]\n",
      "Episode:17, Score:[4.]\n",
      "Episode:18, Score:[0.]\n",
      "Episode:19, Score:[0.]\n",
      "Episode:20, Score:[0.]\n",
      "Episode:21, Score:[0.]\n",
      "Episode:22, Score:[0.]\n",
      "Episode:23, Score:[0.]\n",
      "Episode:24, Score:[3.]\n",
      "Episode:25, Score:[0.]\n",
      "Episode:26, Score:[0.]\n",
      "Episode:27, Score:[0.]\n",
      "Episode:28, Score:[0.]\n",
      "Episode:29, Score:[0.]\n",
      "Episode:30, Score:[0.]\n",
      "Episode:31, Score:[0.]\n",
      "Episode:32, Score:[0.]\n",
      "Episode:33, Score:[4.]\n",
      "Episode:34, Score:[0.]\n",
      "Episode:35, Score:[0.]\n",
      "Episode:36, Score:[0.]\n",
      "Episode:37, Score:[5.]\n",
      "Episode:38, Score:[0.]\n",
      "Episode:39, Score:[0.]\n",
      "Episode:40, Score:[0.]\n",
      "Episode:41, Score:[0.]\n",
      "Episode:42, Score:[0.]\n",
      "Episode:43, Score:[0.]\n",
      "Episode:44, Score:[0.]\n",
      "Episode:45, Score:[0.]\n",
      "Episode:46, Score:[0.]\n",
      "Episode:47, Score:[0.]\n",
      "Episode:48, Score:[3.]\n",
      "Episode:49, Score:[6.]\n",
      "Episode:50, Score:[4.]\n",
      "Episode:51, Score:[0.]\n",
      "Episode:52, Score:[0.]\n",
      "Episode:53, Score:[2.]\n",
      "Episode:54, Score:[0.]\n",
      "Episode:55, Score:[2.]\n",
      "Episode:56, Score:[0.]\n",
      "Episode:57, Score:[0.]\n",
      "Episode:58, Score:[0.]\n",
      "Episode:59, Score:[0.]\n",
      "Episode:60, Score:[0.]\n",
      "Episode:61, Score:[4.]\n",
      "Episode:62, Score:[0.]\n",
      "Episode:63, Score:[0.]\n",
      "Episode:64, Score:[0.]\n",
      "Episode:65, Score:[0.]\n",
      "Episode:66, Score:[5.]\n",
      "Episode:67, Score:[0.]\n",
      "Episode:68, Score:[4.]\n",
      "Episode:69, Score:[0.]\n",
      "Episode:70, Score:[0.]\n",
      "Episode:71, Score:[0.]\n",
      "Episode:72, Score:[0.]\n",
      "Episode:73, Score:[5.]\n",
      "Episode:74, Score:[0.]\n",
      "Episode:75, Score:[0.]\n",
      "Episode:76, Score:[0.]\n",
      "Episode:77, Score:[0.]\n",
      "Episode:78, Score:[2.]\n",
      "Episode:79, Score:[0.]\n",
      "Episode:80, Score:[0.]\n",
      "Episode:81, Score:[0.]\n",
      "Episode:82, Score:[3.]\n",
      "Episode:83, Score:[0.]\n",
      "Episode:84, Score:[5.]\n",
      "Episode:85, Score:[0.]\n",
      "Episode:86, Score:[0.]\n",
      "Episode:87, Score:[0.]\n",
      "Episode:88, Score:[0.]\n",
      "Episode:89, Score:[6.]\n",
      "Episode:90, Score:[3.]\n",
      "Episode:91, Score:[0.]\n",
      "Episode:92, Score:[0.]\n",
      "Episode:93, Score:[0.]\n",
      "Episode:94, Score:[0.]\n",
      "Episode:95, Score:[0.]\n",
      "Episode:96, Score:[0.]\n",
      "Episode:97, Score:[0.]\n",
      "Episode:98, Score:[0.]\n",
      "Episode:99, Score:[0.]\n",
      "Episode:100, Score:[0.]\n"
     ]
    }
   ],
   "source": [
    "# Demak o'qitgan modelimizni ishlatib ko'ramiz\n",
    "episodes = 100\n",
    "\n",
    "for episode in range(1, episodes+1):\n",
    "\n",
    "    obs = env.reset()\n",
    "    done = False\n",
    "\n",
    "    score = 0\n",
    "\n",
    "    while not done:\n",
    "        env.render(mode=\"human\")\n",
    "\n",
    "        action, _ = model.predict(obs)\n",
    "        obs, reward, done, info = env.step(action)\n",
    "        score+=reward\n",
    "\n",
    "    print(\"Episode:{}, Score:{}\".format(episode, score))\n",
    "env.close() \n"
   ]
  },
  {
   "cell_type": "code",
   "execution_count": 28,
   "id": "f227179a-c689-4204-ba3a-9cef4b2ba807",
   "metadata": {},
   "outputs": [],
   "source": [
    "# Demak test jarayoniga e'tibor bersak eng baland reward bizda 7 ekan, juda ham zo'r emas ko'proq o'qitishimiz kerak ekan 😅\n",
    "env.close()"
   ]
  },
  {
   "cell_type": "markdown",
   "id": "74c89170-eefb-48d5-879b-5dab24fe39f0",
   "metadata": {},
   "source": [
    "# <center> <h1>    🧑‍💻  🚀"
   ]
  }
 ],
 "metadata": {
  "kernelspec": {
   "display_name": "rl",
   "language": "python",
   "name": "rl"
  },
  "language_info": {
   "codemirror_mode": {
    "name": "ipython",
    "version": 3
   },
   "file_extension": ".py",
   "mimetype": "text/x-python",
   "name": "python",
   "nbconvert_exporter": "python",
   "pygments_lexer": "ipython3",
   "version": "3.10.0"
  }
 },
 "nbformat": 4,
 "nbformat_minor": 5
}
